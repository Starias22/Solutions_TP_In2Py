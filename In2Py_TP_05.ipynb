{
 "cells": [
  {
   "cell_type": "markdown",
   "id": "QYZn2ujP9tcA",
   "metadata": {
    "id": "QYZn2ujP9tcA"
   },
   "source": [
    "\n",
    "\n",
    "### <center> <b> <span style=\"color:blue;\"> Travaux Pratiques: Fonctions</span> </b></center>\n",
    "\n"
   ]
  },
  {
   "cell_type": "markdown",
   "id": "iMDzVKcl9tcE",
   "metadata": {
    "id": "iMDzVKcl9tcE"
   },
   "source": [
    "#### **Exercice 00:**  \n",
    "> **Écrire une fonction `cube` qui retourne le cube de son argument.**"
   ]
  },
  {
   "cell_type": "code",
   "execution_count": 72,
   "id": "54767e94",
   "metadata": {},
   "outputs": [
    {
     "data": {
      "text/plain": [
       "27"
      ]
     },
     "execution_count": 72,
     "metadata": {},
     "output_type": "execute_result"
    }
   ],
   "source": [
    "def cube (val) :\n",
    "            \"\"\"Cette fonction retourne le cube de son argument\"\"\" \n",
    "            return  val**3\n",
    "    \n",
    "    #Test\n",
    "cube(3)"
   ]
  },
  {
   "cell_type": "markdown",
   "id": "m1ac89qS9tcH",
   "metadata": {
    "id": "m1ac89qS9tcH"
   },
   "source": [
    "#### **Exercice 01:**  \n",
    "> **Déclarez une fonction `ajouter_deux_nombres`. Elle prend deux paramètres et renvoie leur somme.**"
   ]
  },
  {
   "cell_type": "code",
   "execution_count": 42,
   "id": "E_AgGmNy9tcH",
   "metadata": {
    "id": "E_AgGmNy9tcH"
   },
   "outputs": [
    {
     "data": {
      "text/plain": [
       "7.5"
      ]
     },
     "execution_count": 42,
     "metadata": {},
     "output_type": "execute_result"
    }
   ],
   "source": [
    "def ajouter_deux_nombres (val1,val2) :\n",
    "                    \"\"\"Cette fonction retoure la somme de deux nombres pris en argument\"\"\"\n",
    "    \n",
    "                    return val1+val2\n",
    "#Test\n",
    "ajouter_deux_nombres(2,5.5)"
   ]
  },
  {
   "cell_type": "markdown",
   "id": "PKjvAV4y9tcJ",
   "metadata": {
    "id": "PKjvAV4y9tcJ"
   },
   "source": [
    "#### **Exercice 02:**  \n",
    "> **L'aire d'un cercle se calcule comme suit : aire = pi x r x r avec pi=3,14. Écrivez une fonction `aire_du_cercle` qui prend le rayon en argument et calcule l'aire du cercle correspodant.**"
   ]
  },
  {
   "cell_type": "code",
   "execution_count": 43,
   "id": "AxGzHKXX9tcL",
   "metadata": {
    "id": "AxGzHKXX9tcL"
   },
   "outputs": [
    {
     "data": {
      "text/plain": [
       "91.56240000000001"
      ]
     },
     "execution_count": 43,
     "metadata": {},
     "output_type": "execute_result"
    }
   ],
   "source": [
    "def aire_du_cercle(radius) :\n",
    "    \"\"\"Cette fonction calcule l'aire d'un cercle dont il prend le rayon en argument\"\"\"\n",
    "    return radius*radius*3.14\n",
    "#Test\n",
    "aire_du_cercle(5.4)\n"
   ]
  },
  {
   "cell_type": "markdown",
   "id": "6OBRL3oj9tcL",
   "metadata": {
    "id": "6OBRL3oj9tcL"
   },
   "source": [
    "#### **Exercice 03:**  \n",
    "> **La température en °C peut être convertie en °F à l'aide de cette formule : °F = (°C x 9/5) + 32. Écrivez une fonction `convert_celsius_en_fahrenheit` qui convertit les °C en °F**."
   ]
  },
  {
   "cell_type": "code",
   "execution_count": 44,
   "id": "LpDPEBxn9tcN",
   "metadata": {
    "colab": {
     "base_uri": "https://localhost:8080/"
    },
    "id": "LpDPEBxn9tcN",
    "outputId": "7c62c4a2-828a-4eea-e995-a89e3acda0ed"
   },
   "outputs": [
    {
     "name": "stdout",
     "output_type": "stream",
     "text": [
      "Enter the value in celsius 45\n",
      "113.0\n"
     ]
    }
   ],
   "source": [
    "C=float(input('Enter the value in celsius '))\n",
    "def Fahre(C):\n",
    "    \"\"\"Cette fonction convertit une temprature de Celsius en Fahrenheit\"\"\"\n",
    "    F=(C*9/5)+32\n",
    "    return F\n",
    "\n",
    "print(Fahre(C))\n"
   ]
  },
  {
   "cell_type": "markdown",
   "id": "rJRPsZ2h9tcP",
   "metadata": {
    "id": "rJRPsZ2h9tcP"
   },
   "source": [
    "#### **Exercice 04:** \n",
    ">**Écrire une fonction somme avec un argument « tuple de longueur variable » qui calcule la somme des nombres contenus dans le tuple.Tester cette fonction par des appels avec différents tuples d’entiers ou de flottants.**"
   ]
  },
  {
   "cell_type": "code",
   "execution_count": 71,
   "id": "7qn8Czdc9tcP",
   "metadata": {
    "colab": {
     "base_uri": "https://localhost:8080/"
    },
    "id": "7qn8Czdc9tcP",
    "outputId": "998d9d34-3e4c-4a64-f02e-9faa0ff36abe"
   },
   "outputs": [
    {
     "data": {
      "text/plain": [
       "27225.5"
      ]
     },
     "execution_count": 71,
     "metadata": {},
     "output_type": "execute_result"
    }
   ],
   "source": [
    "def somme (un_tuple):\n",
    "    \"\"\"Retourne la somme des éléments d'un tuple\"\"\"\n",
    "    somme=0\n",
    "    for i in un_tuple :\n",
    "        somme+= i\n",
    "    return somme\n",
    "    \n",
    "#Test\n",
    "\n",
    "somme((1,2,3))\n",
    "somme((4.5,66))\n",
    "somme(())\n",
    "somme((4.5,66,48,120,26987))\n"
   ]
  },
  {
   "cell_type": "markdown",
   "id": "kls1kYNh9tcR",
   "metadata": {
    "id": "kls1kYNh9tcR"
   },
   "source": [
    "#### **Exercice 05:** \n",
    ">**Ecrire `somme_liste` qui calcule la somme des nombres contenus dans une liste.Tester cette fonction par des appels avec différents listes d’entiers ou de flottants.**"
   ]
  },
  {
   "cell_type": "code",
   "execution_count": 45,
   "id": "1a425ab5",
   "metadata": {},
   "outputs": [
    {
     "data": {
      "text/plain": [
       "0"
      ]
     },
     "execution_count": 45,
     "metadata": {},
     "output_type": "execute_result"
    }
   ],
   "source": [
    "def somme_liste(liste) :\n",
    "    \"\"\"Cette fonction retourne la somme des nombres contenus dans une liste pris en argument\"\"\"\n",
    "    somme =0\n",
    "    for i in liste :\n",
    "        somme+= i\n",
    "    return somme\n",
    "#Test\n",
    "\n",
    "somme_liste([1,2,3,4,5])\n",
    "somme_liste([1,2.3,3.5])\n",
    "somme_liste([])"
   ]
  },
  {
   "cell_type": "markdown",
   "id": "l4gQECfk9tcS",
   "metadata": {
    "id": "l4gQECfk9tcS"
   },
   "source": [
    "#### **Exercice 06:** \n",
    ">**Écrire une fonction somme qui  prend en argument un entier $n$ et retourne la somme  des $n$-prémiers entiers naturels.**"
   ]
  },
  {
   "cell_type": "code",
   "execution_count": 27,
   "id": "2a3f5b80",
   "metadata": {},
   "outputs": [
    {
     "data": {
      "text/plain": [
       "10"
      ]
     },
     "execution_count": 27,
     "metadata": {},
     "output_type": "execute_result"
    }
   ],
   "source": [
    "def somme (n) :\n",
    "    \"\"\"Cette fonction prend en argument un entier 𝑛 et retourne la somme des 𝑛-prémiers entiers naturels\"\"\"\n",
    "    somme =0\n",
    "    for i in range(0,n):\n",
    "        somme+= i\n",
    "    return somme\n",
    "    \n",
    "#Test \n",
    "somme(5)\n",
    "    "
   ]
  },
  {
   "cell_type": "markdown",
   "id": "tK9EsjZf9tcU",
   "metadata": {
    "id": "tK9EsjZf9tcU"
   },
   "source": [
    "#### **Exercice 07:** \n",
    ">**Écrire une fonction `nom` qui demande à l'utilisateur d'entrer son nom ensuite son prénom et affiche son prénom suivit de son nom.**"
   ]
  },
  {
   "cell_type": "code",
   "execution_count": 47,
   "id": "128e9f0c",
   "metadata": {},
   "outputs": [
    {
     "name": "stdout",
     "output_type": "stream",
     "text": [
      "Entrer votre nom : ADEDE\n",
      "Entrer votre prenom : Ezéchiel\n",
      "Ezéchiel ADEDE\n"
     ]
    }
   ],
   "source": [
    "def nom() :\n",
    "            \"\"\"Cette fonction récupère un nom et un prenom du clavier et l'affiche\"\"\"\n",
    "            nom = input(\"Entrer votre nom : \")\n",
    "            prenom = input(\"Entrer votre prenom : \")\n",
    "            print(prenom,nom)\n",
    "    \n",
    "            \n",
    "#Test\n",
    "nom()"
   ]
  },
  {
   "cell_type": "markdown",
   "id": "YSwrwcEz9tcX",
   "metadata": {
    "id": "YSwrwcEz9tcX"
   },
   "source": [
    "#### **Exercice 08:** \n",
    ">**Écrire une fonction `nom` qui demande à l'utilisateur d'entrer son nom ensuite son prénom et affiche son prénom suivit de son nom.**"
   ]
  },
  {
   "cell_type": "code",
   "execution_count": 49,
   "id": "mRk-8h1P9tcZ",
   "metadata": {
    "id": "mRk-8h1P9tcZ"
   },
   "outputs": [
    {
     "name": "stdout",
     "output_type": "stream",
     "text": [
      "Entrer votre nom : ADEDE\n",
      "Entrer votre prenom : Ezéchiel\n",
      "Ezéchiel ADEDE\n"
     ]
    }
   ],
   "source": [
    "def nom() : \n",
    "            \"\"\"Cette fonction récupère un nom et un prenom du clavier et l'affiche\"\"\"\n",
    "            nom = input(\"Entrer votre nom : \")\n",
    "            prenom = input(\"Entrer votre prenom : \")\n",
    "            print(prenom,nom)\n",
    "            \n",
    "#Test\n",
    "nom()"
   ]
  },
  {
   "cell_type": "markdown",
   "id": "VYtzHXAd9tck",
   "metadata": {
    "id": "VYtzHXAd9tck"
   },
   "source": [
    "#### **Exercice 09:** \n",
    ">**Ecris une fonction `Maximum` qui renvoie le minimum de trois nombres.**"
   ]
  },
  {
   "cell_type": "code",
   "execution_count": 53,
   "id": "f49870bf",
   "metadata": {},
   "outputs": [
    {
     "data": {
      "text/plain": [
       "1"
      ]
     },
     "execution_count": 53,
     "metadata": {},
     "output_type": "execute_result"
    }
   ],
   "source": [
    " def Maximum(a,b,c) :\n",
    "                  \"\"\"Retourne le minimum de trois nombres pris en paramètre\"\"\"\n",
    "                  return min (a,b,c)\n",
    "#Test\n",
    "Maximum(1,5,9)"
   ]
  },
  {
   "cell_type": "markdown",
   "id": "gTpTAnGm9tcm",
   "metadata": {
    "id": "gTpTAnGm9tcm"
   },
   "source": [
    "#### **Exercice 10:**\n",
    ">**Soit $f(x)=ax^2+bx+c$ un trinôme du second degré.**\n",
    " 1. **Ecris une fonction `Discriminant` qui calcule son discriminant.**\n",
    " 2. **Ecris ensuite une fonction `existence_des_racines_du_trinome` qui discute suivant les valeurs du discriminant, l'existence de ses racines.** \n"
   ]
  },
  {
   "cell_type": "code",
   "execution_count": 55,
   "id": "c72a1c01",
   "metadata": {},
   "outputs": [
    {
     "name": "stdout",
     "output_type": "stream",
     "text": [
      "Entrez a : 7\n",
      "Entrez b : 8\n",
      "Entrez c : 8\n",
      "Le trinôme n'admet pas  de racine réelle\n"
     ]
    }
   ],
   "source": [
    "def Discriminant(a,b,c) :\n",
    "    \"\"\"Cette fonction calcule le discriminant d'un trinôme dont elle prend les coefficients en paramètre\"\"\"\n",
    "    return (b**2-4*a*c)\n",
    "def existence_des_racines_du_trinome (a,b,c) :\n",
    "    disc = Discriminant(a,b,c)\n",
    "    if disc == 0 :\n",
    "        print(\"Le trinôme admet une racine  réelle double\")\n",
    "    elif disc > 0 :\n",
    "        print(\"Le trinome admet deux racines réelles distinctes\")\n",
    "    else :\n",
    "        print(\"Le trinôme n'admet pas  de racine réelle\")\n",
    "\n",
    "#Test\n",
    "a=float(input(\"Entrez a : \"))\n",
    "b=float(input(\"Entrez b : \"))\n",
    "c=float(input(\"Entrez c : \"))\n",
    "existence_des_racines_du_trinome(a,b,c)"
   ]
  },
  {
   "cell_type": "markdown",
   "id": "WgJ06GHA9tcn",
   "metadata": {
    "id": "WgJ06GHA9tcn"
   },
   "source": [
    "#### **Exercice 11:**\n",
    ">**Ecris une fonction qui affiche le reste de la division euclidienne d'un entier naturel $a$ par un entier naturel $b$**.\n"
   ]
  },
  {
   "cell_type": "code",
   "execution_count": 56,
   "id": "S1uM-Jca9tcn",
   "metadata": {
    "id": "S1uM-Jca9tcn"
   },
   "outputs": [
    {
     "name": "stdout",
     "output_type": "stream",
     "text": [
      "1\n"
     ]
    }
   ],
   "source": [
    "def remain  (a,b) :\n",
    "    \"\"\"affiche le reste de la division euclidienne d'un entier naturel 𝑎 par un entier naturel 𝑏\"\"\"\n",
    "    print(a%b)\n",
    "#Test\n",
    "remain(11,5)   "
   ]
  },
  {
   "cell_type": "markdown",
   "id": "dtC_cOVJ9tco",
   "metadata": {
    "id": "dtC_cOVJ9tco"
   },
   "source": [
    "#### **Exercice 12:**\n",
    ">**Ecris une fonction `terme_suite_geometrique` qui affiche le n-ième terme d'une suite géométrique $(v_n)$ de premier terme $v_0$ et de raison $q$. Teste ce programme pour $v_0=2, q=3$ et $n=4$.**"
   ]
  },
  {
   "cell_type": "code",
   "execution_count": 57,
   "id": "TeLDRV8N9tco",
   "metadata": {
    "id": "TeLDRV8N9tco"
   },
   "outputs": [
    {
     "data": {
      "text/plain": [
       "242.0"
      ]
     },
     "execution_count": 57,
     "metadata": {},
     "output_type": "execute_result"
    }
   ],
   "source": [
    "def terme_suite_geometrique(n,v0,q) :\n",
    "                                 \"\"\" affiche le n-ième terme d'une suite géométrique (𝑣𝑛) \"\"\"\n",
    "                                 i=1\n",
    "                                 exp_qn=q\n",
    "                                 while i<=n :\n",
    "                                              exp_qn *=q\n",
    "                                              i+=1\n",
    "                                 return v0*(1-exp_qn)/(1-q)\n",
    "                                  \n",
    "#Test\n",
    "terme_suite_geometrique(4,2,3)"
   ]
  },
  {
   "cell_type": "markdown",
   "id": "GrmGuHwu9tco",
   "metadata": {
    "id": "GrmGuHwu9tco"
   },
   "source": [
    "#### **Exercice 13:**\n",
    ">**Écris une fonction `merci`  qui prend en paramètre un `nom` et renvoie le message \"Merci pour votre présence à cet atelier,`nom`.**\n"
   ]
  },
  {
   "cell_type": "code",
   "execution_count": 58,
   "id": "5db0f354",
   "metadata": {},
   "outputs": [
    {
     "data": {
      "text/plain": [
       "'Merci pour votre présence à cet atelier, Ezéchiel '"
      ]
     },
     "execution_count": 58,
     "metadata": {},
     "output_type": "execute_result"
    }
   ],
   "source": [
    "def merci(nom) :\n",
    "                 \"\"\"Renvoie un message\"\"\"\n",
    "                 return \"Merci pour votre présence à cet atelier, \"+nom+\" \"\n",
    "#Test\n",
    "merci(\"Ezéchiel\")"
   ]
  },
  {
   "cell_type": "markdown",
   "id": "T3jopRLc9tco",
   "metadata": {
    "id": "T3jopRLc9tco"
   },
   "source": [
    "#### **Exercice 14:**\n",
    ">**Écris une fonction `ma_suite` qui définit la suite $(u_n)$ telle que  $$u_{n}=\\frac{2n^2+3n-1}{n+6}.$$\n",
    "Affiche son 5e terme.**\n"
   ]
  },
  {
   "cell_type": "code",
   "execution_count": 59,
   "id": "P1l82riw9tcp",
   "metadata": {
    "id": "P1l82riw9tcp"
   },
   "outputs": [
    {
     "name": "stdout",
     "output_type": "stream",
     "text": [
      "4.3\n"
     ]
    }
   ],
   "source": [
    "def ma_suite (n) :\n",
    "                  \"\"\"Calcule  (𝑢𝑛)\"\"\"\n",
    "                  return (2*n**2+3*n-1)/(n+6)\n",
    "terme5=ma_suite(4) #En effet le premier terme a 0 comme indice\n",
    "print(terme5)"
   ]
  },
  {
   "cell_type": "markdown",
   "id": "SIizzU_A9tcp",
   "metadata": {
    "id": "SIizzU_A9tcp"
   },
   "source": [
    "\n",
    "\n",
    "<center> <b> <span style=\"color:orange;\"> 🎉 FÉLICITATIONS ! 🎉 </span> </b></center>"
   ]
  }
 ],
 "metadata": {
  "colab": {
   "collapsed_sections": [],
   "name": "In2Py_TP_05.ipynb",
   "provenance": []
  },
  "kernelspec": {
   "display_name": "Python 3 (ipykernel)",
   "language": "python",
   "name": "python3"
  },
  "language_info": {
   "codemirror_mode": {
    "name": "ipython",
    "version": 3
   },
   "file_extension": ".py",
   "mimetype": "text/x-python",
   "name": "python",
   "nbconvert_exporter": "python",
   "pygments_lexer": "ipython3",
   "version": "3.8.10"
  }
 },
 "nbformat": 4,
 "nbformat_minor": 5
}
