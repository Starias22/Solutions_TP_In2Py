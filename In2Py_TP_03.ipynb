{
 "cells": [
  {
   "cell_type": "markdown",
   "metadata": {
    "id": "12_fdbLn8p4A"
   },
   "source": [
    "\n",
    "\n",
    "### <center> <b> <span style=\"color:blue;\"> Travaux Pratiques: Objets itérables ou conteneurs</span> </b></center>\n"
   ]
  },
  {
   "cell_type": "markdown",
   "metadata": {
    "id": "E_ZB23H68p4D"
   },
   "source": [
    "###  <center> <b> <span style=\"color:blue;\"> Listes </span> </b></center>"
   ]
  },
  {
   "cell_type": "code",
   "execution_count": null,
   "metadata": {
    "id": "TAzYC_Ev8p4F"
   },
   "outputs": [],
   "source": []
  },
  {
   "cell_type": "markdown",
   "metadata": {
    "id": "H0cIcjGk8p4G"
   },
   "source": [
    "#### **Exercice 00:** \n",
    ">**Déclarer une liste vide.**"
   ]
  },
  {
   "cell_type": "code",
   "execution_count": 1,
   "metadata": {
    "colab": {
     "base_uri": "https://localhost:8080/"
    },
    "id": "45QEMilz8p4I",
    "outputId": "57f37201-144a-47a3-e0b3-98f739633dd8"
   },
   "outputs": [
    {
     "name": "stdout",
     "output_type": "stream",
     "text": [
      "[]\n"
     ]
    }
   ],
   "source": [
    "x=list()\n",
    "print(x)"
   ]
  },
  {
   "cell_type": "markdown",
   "metadata": {
    "id": "zZ0XnwpB8p4J"
   },
   "source": [
    "#### **Exercice 01:** \n",
    ">**Déclarer une liste de plus de 5 éléments.**"
   ]
  },
  {
   "cell_type": "code",
   "execution_count": 3,
   "metadata": {
    "colab": {
     "base_uri": "https://localhost:8080/"
    },
    "id": "HV32hLfA8p4L",
    "outputId": "2e6512ac-fc27-44ae-aedf-b72deb0c9453"
   },
   "outputs": [
    {
     "name": "stdout",
     "output_type": "stream",
     "text": [
      "[0, 1, 2, 3, 4, 5, 6]\n"
     ]
    }
   ],
   "source": [
    "x=list(range(0,7))\n",
    "print(x)"
   ]
  },
  {
   "cell_type": "markdown",
   "metadata": {
    "id": "tJpy6kNz8p4M"
   },
   "source": [
    "#### **Exercice 02:** \n",
    ">**Trouver la longueur de votre liste.**"
   ]
  },
  {
   "cell_type": "code",
   "execution_count": null,
   "metadata": {
    "colab": {
     "base_uri": "https://localhost:8080/"
    },
    "id": "627A_RNw8p4O",
    "outputId": "9e39a0a0-a25f-4234-ff08-88d11eb6f96b"
   },
   "outputs": [
    {
     "data": {
      "text/plain": [
       "7"
      ]
     },
     "execution_count": 5,
     "metadata": {},
     "output_type": "execute_result"
    }
   ],
   "source": [
    "len(x)"
   ]
  },
  {
   "cell_type": "markdown",
   "metadata": {
    "id": "unFrwT5t8p4Q"
   },
   "source": [
    "#### **Exercice 03:** \n",
    ">**Obtenez le premier élément, l'élément central et le dernier élément de la liste.**\n",
    "\n"
   ]
  },
  {
   "cell_type": "code",
   "execution_count": null,
   "metadata": {
    "colab": {
     "base_uri": "https://localhost:8080/"
    },
    "id": "MUuc1gaQ8p4R",
    "outputId": "ba6e79d3-7361-4cae-f4b3-dfa6e90772e6"
   },
   "outputs": [
    {
     "name": "stdout",
     "output_type": "stream",
     "text": [
      " 0\n",
      " 3\n",
      " 6\n"
     ]
    }
   ],
   "source": [
    "print('',x[0])\n",
    "print('',x[((len(x)-1)//2)])\n",
    "print('',x[-1])"
   ]
  },
  {
   "cell_type": "markdown",
   "metadata": {
    "id": "4Rqp8q0L8p4R"
   },
   "source": [
    "#### **Exercice 04:** \n",
    ">**Déclarez une liste appelée mixed_data_types, mettez votre (nom, âge, taille, état civil, adresse).**"
   ]
  },
  {
   "cell_type": "code",
   "execution_count": 10,
   "metadata": {
    "id": "EoZPW2UH8p4S"
   },
   "outputs": [
    {
     "name": "stdout",
     "output_type": "stream",
     "text": [
      "Nom : ADEDE\n",
      "Âge : Ezéchiel\n",
      "Taille : 19\n",
      "Etat civil : Bénin\n",
      "Adresse : Dangbo\n"
     ]
    }
   ],
   "source": [
    "nom = \"ADEDE\"\n",
    "\n",
    "age = 19\n",
    "taille = 1.75\n",
    "etat_civil = \"Bénin\"\n",
    "adresse = \"Dangbo\"\n",
    "\n",
    "mixed_data_types = [nom,prenom,age,etat_civil,adresse]\n",
    "print(\"Nom :\",mixed_data_types[0])\n",
    "print(\"Âge :\",mixed_data_types[1])\n",
    "print(\"Taille :\",mixed_data_types[2])\n",
    "print(\"Etat civil :\",mixed_data_types[3])\n",
    "print(\"Adresse :\",mixed_data_types[-1])"
   ]
  },
  {
   "cell_type": "markdown",
   "metadata": {
    "id": "OPYSNV1l8p4T"
   },
   "source": [
    "#### **Exercice 05:** \n",
    "\n",
    "    1. Déclarez une variable liste appelée it_companies et attribuez les valeurs initiales Facebook, Google, Microsoft, Apple, IBM, Oracle et Amazon.\n",
    "\n",
    "    2. Imprimez la liste à l'aide de print()\n",
    "\n",
    "    3. Imprimez le nombre d'entreprises dans la liste\n",
    "\n",
    "    4. Imprimez la première, la moyenne et la dernière entreprise\n",
    "\n",
    "    5. Imprimez la liste après avoir modifié l'une des entreprises.\n",
    "\n",
    "    6. Ajout d'une entreprise informatique à it_companies\n",
    "\n",
    "    7. Insérer une entreprise informatique au milieu de la liste des entreprises\n",
    "\n",
    "    8. Changez le nom d'une des it_companies en majuscule (sauf IBM !)\n",
    "\n",
    "    9. Joignez les it_companies avec une chaîne '# ; '.\n",
    "\n",
    "    10. Vérifier si une certaine entreprise existe dans la liste it_companies.\n",
    "\n",
    "    11. Trier la liste en utilisant la méthode sort()\n",
    "\n",
    "    12. Inversez la liste par ordre décroissant à l'aide de la méthode reverse().\n",
    "\n",
    "    13. Supprimez les 3 premières entreprises de la liste.\n",
    "\n",
    "    14. Supprimez les 3 dernières entreprises de la liste.\n",
    "\n",
    "    15. Supprimez la ou les entreprises informatiques du milieu de la liste.\n",
    "\n",
    "    16. Supprimez la première entreprise informatique de la liste\n",
    "\n",
    "    17. Supprimez la ou les entreprises informatiques du milieu de la liste.\n",
    "\n",
    "    18. Retirer la dernière entreprise informatique de la liste\n",
    "\n",
    "    19. Supprimez toutes les entreprises informatiques de la liste\n",
    "\n",
    "    20. Détruire la liste des entreprises informatiques"
   ]
  },
  {
   "cell_type": "code",
   "execution_count": 85,
   "metadata": {
    "id": "4M_XODba8p4V"
   },
   "outputs": [
    {
     "name": "stdout",
     "output_type": "stream",
     "text": [
      "['Facebook', 'Google', 'Microsoft', 'Apple', 'IBM', 'Oracle', 'Amazon']\n",
      "\n",
      "Nombre d'entreprises : 7\n",
      "\n",
      "Première entreprise de la liste : Facebook\n",
      "\n",
      "Entreprise moyenne de la liste de la liste : Apple\n",
      "\n",
      "Dernière entreprise de la liste : Amazon\n",
      "\n",
      "Liste après modification\n",
      " ['Facebook', 'Google', 'Microsoft', 'Apple', 'Tesla', 'Oracle', 'Amazon']\n",
      "\n",
      "Liste après ajout\n",
      " ['Facebook', 'Google', 'Microsoft', 'Apple', 'Tesla', 'Oracle', 'Amazon', 'Ding']\n",
      "\n",
      "Liste après insertion au milieu\n",
      " ['Facebook', 'Google', 'Microsoft', 'Apple', 'Djin', 'Tesla', 'Oracle', 'Amazon', 'Ding']\n",
      "\n",
      "Liste après convertion en majuscule\n",
      " ['Facebook', 'Google', 'Microsoft', 'Apple', 'Djin', 'Tesla', 'Oracle', 'Amazon', 'Ding']\n",
      "\n",
      "Google est dans la liste : True\n",
      "\n",
      "Liste après le  tri\n",
      " ['Amazon', 'Apple', 'Ding', 'Djin', 'Facebook', 'Google', 'Microsoft', 'Oracle', 'Tesla']\n",
      "\n",
      "Liste après invertion\n",
      " ['Tesla', 'Oracle', 'Microsoft', 'Google', 'Facebook', 'Djin', 'Ding', 'Apple', 'Amazon']\n",
      "\n",
      "Liste après suppression des trois premières entreprises\n",
      " ['Google', 'Facebook', 'Djin', 'Ding', 'Apple', 'Amazon']\n",
      "\n",
      "Liste après suppression des trois dernières entreprises\n",
      " ['Google', 'Facebook', 'Djin']\n",
      "\n",
      "Liste après suppression de l'entreprise au milieu de la liste entreprises\n",
      " ['Google', 'Djin']\n",
      "\n",
      "Liste après suppression de la première entreprise\n",
      " ['Djin']\n",
      "\n",
      "Liste après suppression de l'entreprise au milieu de la liste entreprises\n",
      " []\n",
      "\n",
      "Liste après suppression de la dernière entreprise de la liste entreprises\n",
      " ['Telegram']\n",
      "\n",
      "Liste après suppression de toutes les entreprises de la liste entreprises\n",
      " []\n"
     ]
    }
   ],
   "source": [
    "#1\n",
    "it_companies = [\"Facebook\", \"Google\", \"Microsoft\", \"Apple\", \"IBM\", \"Oracle\", \"Amazon\"]\n",
    "#2\n",
    "print(it_companies)\n",
    "#3\n",
    "print(\"\\nNombre d'entreprises :\",len(it_companies))\n",
    "#4\n",
    "print(\"\\nPremière entreprise de la liste :\",it_companies[0])\n",
    "print(\"\\nEntreprise moyenne de la liste de la liste :\",it_companies[len(it_companies)//2])\n",
    "print(\"\\nDernière entreprise de la liste :\",it_companies[-1])\n",
    "#5\n",
    "#Modification d'une entreprise\n",
    "it_companies[4]=\"Tesla\" # IBM changé en Tesla\n",
    "#Affichage de la liste des entreprise\n",
    "print(\"\\nListe après modification\\n\",it_companies)\n",
    "\n",
    "#6 Ajout d'une entreprise informatique à it_companies\n",
    "it_companies.append(\"Ding\")\n",
    "print(\"\\nListe après ajout\\n\",it_companies)\n",
    "\n",
    "#7 Insérer une entreprise informatique au milieu de la liste des entreprises\n",
    "it_companies.insert (len(it_companies)//2,\"Djin\")\n",
    "print(\"\\nListe après insertion au milieu\\n\",it_companies)\n",
    "\n",
    "#8 Changez le nom d'une des it_companies en majuscule (sauf IBM !)\n",
    "it_companies[0].upper()\n",
    "print(\"\\nListe après convertion en majuscule\\n\",it_companies)\n",
    "\n",
    "#9 Joignez les it_companies avec une chaîne '# ; '.\n",
    "\n",
    "#10 Vérifier si une certaine entreprise existe dans la liste it_companies.\n",
    "exist = \"Google\" in it_companies\n",
    "print(\"\\nGoogle est dans la liste :\",exist)\n",
    "\n",
    "#11 Trier la liste en utilisant la méthode sort()\n",
    "it_companies.sort();\n",
    "print(\"\\nListe après le  tri\\n\",it_companies)\n",
    "\n",
    "#12 Inversez la liste par ordre décroissant à l'aide de la méthode reverse().\n",
    "it_companies.reverse()\n",
    "print(\"\\nListe après invertion\\n\",it_companies)\n",
    "\n",
    "#13 Supprimez les 3 premières entreprises de la liste.\n",
    "it_companies.remove(it_companies[0]);\n",
    "it_companies.remove(it_companies[0]);\n",
    "it_companies.remove(it_companies[0]);\n",
    "print(\"\\nListe après suppression des trois premières entreprises\\n\",it_companies)\n",
    "\n",
    "\n",
    "#14 Supprimez les 3 dernières entreprises de la liste.\n",
    "\n",
    "it_companies.remove(it_companies[-1]);\n",
    "it_companies.remove(it_companies[-1]);\n",
    "it_companies.remove(it_companies[-1]);\n",
    "print(\"\\nListe après suppression des trois dernières entreprises\\n\",it_companies)\n",
    "\n",
    "#15 Supprimez la ou les entreprises informatiques du milieu de la liste.\n",
    "\n",
    "it_companies.remove(it_companies[len(it_companies)//2]);\n",
    "print(\"\\nListe après suppression de l'entreprise au milieu de la liste entreprises\\n\",it_companies)\n",
    "\n",
    "#16 Supprimez la première entreprise informatique de la liste\n",
    "it_companies.remove(it_companies[0]);\n",
    "print(\"\\nListe après suppression de la première entreprise\\n\",it_companies)\n",
    "\n",
    "#17 Supprimez la ou les entreprises informatiques du milieu de la liste.\n",
    "\n",
    "it_companies.remove(it_companies[len(it_companies)//2]);\n",
    "print(\"\\nListe après suppression de l'entreprise au milieu de la liste entreprises\\n\",it_companies)\n",
    "\n",
    "\n",
    "it_companies.append(\"Telegram\");\n",
    "it_companies.append(\"Youtube\");\n",
    "\n",
    "\n",
    "\n",
    "\n",
    "#18 Retirer la dernière entreprise informatique de la liste\n",
    "\n",
    "it_companies.pop();\n",
    "print(\"\\nListe après suppression de la dernière entreprise de la liste entreprises\\n\",it_companies)\n",
    "\n",
    "\n",
    "#19 Supprimez toutes les entreprises informatiques de la liste\n",
    "\n",
    "it_companies.clear();\n",
    "print(\"\\nListe après suppression de toutes les entreprises de la liste entreprises\\n\",it_companies)\n",
    "\n",
    "#20 Détruire la liste des entreprises informatiques\n",
    "del it_companies\n",
    "\n",
    "\n"
   ]
  },
  {
   "cell_type": "markdown",
   "metadata": {
    "id": "AfauolZA8p4V"
   },
   "source": [
    "#### **Exercice 06:** \n",
    "**Joindre les listes suivantes :**\n",
    "     \n",
    "         front_end = ['HTML', 'CSS', 'JS', 'React', 'Redux']  \n",
    "         back_end = ['Node','Express', 'MongoDB']"
   ]
  },
  {
   "cell_type": "code",
   "execution_count": 53,
   "metadata": {
    "colab": {
     "base_uri": "https://localhost:8080/"
    },
    "id": "6V8OXDSW8p4W",
    "outputId": "1b627109-6515-4c20-df97-d8bd6fa760f6"
   },
   "outputs": [
    {
     "name": "stdout",
     "output_type": "stream",
     "text": [
      " ['HTML', 'CSS', 'JS', 'React', 'Redux', 'Node', 'Express', 'MongoDB']\n"
     ]
    }
   ],
   "source": [
    "front_end = ['HTML', 'CSS', 'JS', 'React', 'Redux']  \n",
    "back_end = ['Node','Express', 'MongoDB']\n",
    "jo =front_end+back_end\n",
    "print('',jo)"
   ]
  },
  {
   "cell_type": "markdown",
   "metadata": {
    "id": "kASFM1bh8p4X"
   },
   "source": [
    "#### **Exercice 07:** \n",
    "Voici une liste de 10 âges d'étudiants :\n",
    "\n",
    "         ages = [19, 22, 19, 24, 20, 25, 26, 24, 25, 24]\n",
    "         \n",
    " \n",
    "    1. Trier la liste et trouver l'âge minimum et maximum.\n",
    "    2. Ajoutez à nouveau l'âge minimum et l'âge maximum à la liste.\n",
    "    3. Trouvez l'âge médian (un élément du milieu ou deux éléments du milieu divisés par deux).\n",
    "    4. Trouvez l'âge moyen (somme de tous les éléments divisée par leur nombre).\n",
    "    4. Trouver l'intervalle des âges (max moins min)\n",
    "    5. Comparez les valeurs de (min - moyenne) et (max - moyenne) en utilisant la méthode abs().\n",
    "        "
   ]
  },
  {
   "cell_type": "code",
   "execution_count": 57,
   "metadata": {
    "colab": {
     "base_uri": "https://localhost:8080/"
    },
    "id": "TWTGGaOO8p4Z",
    "outputId": "d64f879c-1074-464a-cc60-23a7ae032b29"
   },
   "outputs": [
    {
     "name": "stdout",
     "output_type": "stream",
     "text": [
      "min=19,max=26\n"
     ]
    },
    {
     "data": {
      "text/plain": [
       "[19, 19, 20, 22, 24, 24, 24, 25, 25, 26, 19, 26, 19, 26]"
      ]
     },
     "execution_count": 57,
     "metadata": {},
     "output_type": "execute_result"
    }
   ],
   "source": [
    "ages = [19, 22, 19, 24, 20, 25, 26, 24, 25, 24]\n",
    "#1  Trier la liste et trouver l'âge minimum et maximum\n",
    "ages.sort() #Tri de la liste\n",
    "print(\"min={},max={}\".format(min(ages),max(ages))) # min et max\n",
    "#2 Ajoutez à nouveau l'âge minimum et l'âge maximum à la liste.\n",
    "ages.extend([min(ages),max(ages)])\n",
    "\n",
    "ages=ages+[min(ages),max(ages)]\n"
   ]
  },
  {
   "cell_type": "code",
   "execution_count": 64,
   "metadata": {
    "colab": {
     "base_uri": "https://localhost:8080/"
    },
    "id": "TEtbXitA8p4h",
    "outputId": "83108157-4675-42ce-c400-1d88fcb98a94"
   },
   "outputs": [
    {
     "data": {
      "text/plain": [
       "False"
      ]
     },
     "execution_count": 64,
     "metadata": {},
     "output_type": "execute_result"
    }
   ],
   "source": [
    "#Suite\n",
    "#3 Trouvez l'âge médian (un élément du milieu ou deux éléments du milieu divisés par deux).\n",
    "ages[(len(ages)//2)]\n",
    "\n",
    "#4 Trouver l'intervalle des âges (max moins min)\n",
    "ages\n",
    "\n",
    "\n",
    "\n",
    "#4 Trouvez l'âge moyen (somme de tous les éléments divisée par leur nombre).\n",
    "sum(ages)/len(ages)\n",
    "\n",
    "#5 Comparez les valeurs de (min - moyenne) et (max - moyenne) en utilisant la méthode abs()\n",
    "\n",
    "moy=max(ages)-min(ages)\n",
    "\n",
    "abs(min(ages)-moy)>abs(max(ages)-moy)\n"
   ]
  },
  {
   "cell_type": "markdown",
   "metadata": {
    "id": "1f0X_hVGYbNB"
   },
   "source": []
  },
  {
   "cell_type": "markdown",
   "metadata": {
    "id": "bF7FI4iT8p4i"
   },
   "source": [
    "###  <center> <b> <span style=\"color:blue;\"> Dictionnaires </span> </b></center>"
   ]
  },
  {
   "cell_type": "markdown",
   "metadata": {
    "id": "VzcSJMf18p4j"
   },
   "source": [
    "\n",
    "1. Créer un dictionnaire vide appelé `dog`\n",
    "2. Ajoute le nom, la couleur, la race, les pattes, l'âge au dictionnaire dog.\n",
    "3. Créez un dictionnaire student et ajoutez le prénom, le nom, le sexe, l'âge, l'état civil, les compétences, le pays, la ville et l'adresse comme clés pour le dictionnaire.\n",
    "4. Obtenez la longueur du dictionnaire student\n",
    "5. Récupérez la valeur des compétences et vérifiez le type de données, il doit s'agir d'une liste.\n",
    "6. Modifiez les valeurs des compétences en ajoutant une ou deux compétences.\n",
    "7. Obtenez les clés du dictionnaire sous forme de liste\n",
    "8. Obtenir les valeurs du dictionnaire sous forme de liste\n",
    "9. Transformer le dictionnaire en une liste de tuples en utilisant la méthode items()\n",
    "10. Supprimer un des éléments du dictionnaire\n",
    "11. Supprimer un des dictionnaires\n"
   ]
  },
  {
   "cell_type": "code",
   "execution_count": 65,
   "metadata": {
    "colab": {
     "base_uri": "https://localhost:8080/"
    },
    "id": "LJ6DfBUh8p4k",
    "outputId": "725d0091-4c2c-4c6e-ee0a-3cc64c047c7b"
   },
   "outputs": [
    {
     "data": {
      "text/plain": [
       "{'nom': 'chat', 'race': 'carni', 'pattes': 4, 'age': 6}"
      ]
     },
     "execution_count": 65,
     "metadata": {},
     "output_type": "execute_result"
    }
   ],
   "source": [
    "#1. Créer un dictionnaire vide appelé `dog`\n",
    "dog=dict()\n",
    "#2. Ajoute le nom, la couleur, la race, les pattes, l'âge au dictionnaire dog.\n",
    "dog['nom'],dog['race'],dog['pattes'],dog['age']='chat','carni',4,6\n",
    "\n",
    "dog"
   ]
  },
  {
   "cell_type": "code",
   "execution_count": 1,
   "metadata": {
    "id": "rNdDqviE8p4l"
   },
   "outputs": [],
   "source": [
    "# 3. Créez un dictionnaire student et ajoutez le prénom, le nom, le sexe, l'âge, l'état civil,\n",
    "#les compétences, le pays, la ville et l'adresse comme clés pour le dictionnaire.\n",
    "student={'prenom':'chadrack','nom':'bahati','sexe':'M','etat civil':'celibataire','competances':['maths','politique','ecriture'],'pays':'RDC','adresse':'Mbour'}\n",
    "\n",
    "#4 4. Obtenez la longueur du dictionnaire student\n",
    "len(student)\n",
    "#5. Récupérez la valeur des compétences et vérifiez le type de données, il doit s'agir d'une liste.\n",
    "type(student['competances'])\n",
    "#6. Modifiez les valeurs des compétences en ajoutant une ou deux compétences.\n",
    "student['competances'].extend(['sapologie','chretien'])\n",
    "student['competances']\n",
    "\n",
    "#7. Obtenez les clés du dictionnaire sous forme de liste\n",
    "student.keys()\n",
    "#8. Obtenir les valeurs du dictionnaire sous forme de liste\n",
    "student.values()\n",
    "#9. Transformer le dictionnaire en une liste de tuples en utilisant la méthode items()\n",
    "student.items()\n",
    "\n",
    "#10 Supprimer un des éléments du dictionnaire\"\n",
    "#del dog[0]\n",
    "\n",
    "\n",
    "#11. Supprimer un des dictionnaires\n",
    "student.clear()\n"
   ]
  },
  {
   "cell_type": "markdown",
   "metadata": {
    "id": "ugc1Itzb8p4l"
   },
   "source": [
    "<center> <b> <span style=\"color:orange;\"> 🎉 FÉLICITATIONS !🎉 </span> </b></center>"
   ]
  }
 ],
 "metadata": {
  "colab": {
   "collapsed_sections": [],
   "name": "In2Py_TP_03.ipynb",
   "provenance": []
  },
  "kernelspec": {
   "display_name": "Python 3 (ipykernel)",
   "language": "python",
   "name": "python3"
  },
  "language_info": {
   "codemirror_mode": {
    "name": "ipython",
    "version": 3
   },
   "file_extension": ".py",
   "mimetype": "text/x-python",
   "name": "python",
   "nbconvert_exporter": "python",
   "pygments_lexer": "ipython3",
   "version": "3.8.10"
  }
 },
 "nbformat": 4,
 "nbformat_minor": 1
}
