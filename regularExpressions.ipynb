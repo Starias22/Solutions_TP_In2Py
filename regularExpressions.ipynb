{
 "cells": [
  {
   "cell_type": "markdown",
   "id": "a7696365",
   "metadata": {},
   "source": [
    "<h1 style =\"color:red\"> Etude des expressions régulières</h1>\n",
    " <p>\n",
    "\n",
    "Exposé présenté par <strong>Ezéchiel ADEDE</strong> sous la direction de  monsieur <strong>Ulrich GABA</strong>\n",
    "\n",
    "\n",
    "\n",
    "<h2>Contenu</h2>\n",
    "<div style =\"fontSize=20px\">               \n",
    "<ul>\n",
    "    \n",
    "<li>Définition d'expression régulière</li>\n",
    "\n",
    "<li>Utilité des expressions régulières</li>\n",
    "\n",
    "<li>En python : Le module re</li>\n",
    "\n",
    "\n",
    "<li>Quelques méthodes sur les expressions régulières</li>\n",
    "<ul>\n",
    "<li>Méthodes de recherche</li>\n",
    "    \n",
    "<ul>\n",
    "<li>search</li>\n",
    "\n",
    "<li>match </li>\n",
    "\n",
    "<li>Différence entre search et match</li>\n",
    "\n",
    "<li>fullmatch</li>\n",
    "\n",
    "<li>findall</li>\n",
    "\n",
    " </ul>\n",
    "        \n",
    "<li>Méthodes de recherche et remplacement</li>\n",
    "<ul>\n",
    "    \n",
    "<li>sub</li> \n",
    "\n",
    "<li>subn</li>\n",
    " </ul>\n",
    "</ul>\n",
    "<li>Modificateurs</li>\n",
    "\n",
    "<li>Quantifieurs</li>\n",
    "\n",
    "<li>Classes de caractères</li>\n",
    "\n",
    "<li>Métacaractères</li>\n",
    "\n",
    "\n",
    "<li>Expressions régulières compilées</li>\n",
    "\n",
    "<li>Application : Validation d'une adresse email</li>\n",
    " </ul>\n",
    "    </div> \n",
    "</p>"
   ]
  },
  {
   "cell_type": "markdown",
   "id": "459926f4",
   "metadata": {},
   "source": [
    "<h4>Définition d'expression régulière</h4>\n",
    "<p>\n",
    "<ul>\n",
    "    <li>Suite de caractères formant un schéma de recherche</li> \n",
    "    <li>Disponible non  seulement en Python  ...</li>\n",
    " </ul>\n",
    "</p>\n",
    "\n",
    "<h4>Utilité des expressions régulières</h4>\n",
    "<p>\n",
    "<ul>\n",
    "    <li>rechercher</li> \n",
    "    <li>remplacer</li>\n",
    "    <li>modifier</li>\n",
    "    <li>traiter des données</li>\n",
    "    <li>valider des données</li>\n",
    "    \n",
    " </ul>\n",
    "</p>\n",
    "\n",
    "<h4>En python : Le module re </h4>"
   ]
  },
  {
   "cell_type": "markdown",
   "id": "fb20b982",
   "metadata": {},
   "source": [
    "<h6 style =\"text-decoration : underline\">Les méthodes <i>search</i> et<i> match</i> : Signature et exemples -points communs</h6>\n",
    "            \n",
    "    re.search(regExp,string)\n",
    "    \n",
    "    re.match(regExp,string)"
   ]
  },
  {
   "cell_type": "code",
   "execution_count": 12,
   "id": "c6fa8062",
   "metadata": {},
   "outputs": [
    {
     "data": {
      "text/plain": [
       "<re.Match object; span=(3, 4), match='a'>"
      ]
     },
     "execution_count": 12,
     "metadata": {},
     "output_type": "execute_result"
    }
   ],
   "source": [
    "import re\n",
    "re.search(\"a\",\"Mohamed\")"
   ]
  },
  {
   "cell_type": "code",
   "execution_count": 13,
   "id": "6706bf06",
   "metadata": {},
   "outputs": [],
   "source": [
    " \n",
    "string = \"Engagez vous qu'ils disaient, rengagez vous qu'ils disaient !\"\n",
    "model1 = \"Engagez\"\n",
    "model2 = \"eng\"\n",
    "model3 = \"vous\"\n",
    "model4=\"dit\"\n",
    "\n",
    "def search(model,chaine):\n",
    "    print(re.search(model,chaine))\n",
    "    if re.search(model,chaine) :\n",
    "        print(\"La chaine vérifie le model \")\n",
    "    else :\n",
    "        print(\"La chaine ne vérifie pas le moldèle\")\n",
    "\n",
    "#search(model1,string)\n",
    "#search(model2,string)\n",
    "#search(model3,string)\n",
    "#search(model4,string)\n",
    "\n",
    "\n",
    "def match(model,chaine):\n",
    "    print(re.match(model,chaine) ) \n",
    "#match(model1,string)\n",
    "#match(model2,string)\n",
    "#match(model3,string)\n",
    "#match(model4,string)\n",
    "\n",
    "\n",
    "\n",
    "\n",
    "#Noter la différence entre les deux méthodes\n",
    "\n",
    "\n"
   ]
  },
  {
   "cell_type": "code",
   "execution_count": 14,
   "id": "42cb8728",
   "metadata": {},
   "outputs": [],
   "source": [
    "# La méthode span\n",
    "\n",
    "#print(re.search(model1,string).span())\n",
    "\n",
    "#print(re.search(\"an\",\"dff\").span())\n"
   ]
  },
  {
   "cell_type": "markdown",
   "id": "6865e951",
   "metadata": {},
   "source": [
    "<h4>Les modificateurs </h4>\n",
    "\n",
    "<h5>Définition</h5>\n",
    "<p>\n",
    "    flag,option de recherche,indique la façon dont la recherche sera faite \n",
    "    <p/>\n",
    "\n",
    "<h5>Quelques modificateurs<h5>\n",
    "  <ul>\n",
    "<li>IGNORECASE (I)</li>\n",
    "<li>MULTILINE (M)</li>\n",
    "<li>DOTALL (S) </li>\n",
    " </ul>\n",
    "  \n",
    " "
   ]
  },
  {
   "cell_type": "markdown",
   "id": "cc66068b",
   "metadata": {},
   "source": [
    "                  re.search(model,string,flag)\n",
    "                  re.match(model,string,flag)"
   ]
  },
  {
   "cell_type": "code",
   "execution_count": 15,
   "id": "273456db",
   "metadata": {},
   "outputs": [
    {
     "name": "stdout",
     "output_type": "stream",
     "text": [
      "Engagez vous qu'ils disaient, rengagez vous qu'ils disaient !\n"
     ]
    }
   ],
   "source": [
    " #Exemple flag I \n",
    "mod =\"ENGAGE\"\n",
    "print(string)\n",
    "#re.search(mod,string,re.IGNORECASE)\n",
    "#re.match(mod,string,re.I)\n"
   ]
  },
  {
   "cell_type": "markdown",
   "id": "80a2a7bc",
   "metadata": {},
   "source": [
    "<h4>Les quantifieurs</h4>\n",
    "<h5>Definition</h5>\n",
    "<p>\n",
    "   Les quantifieurs sont des séquences   utilisées dans les expressions régulières permettant de spécifier le nombre de fois un modèle donné est requis dans une expression régulière.Ils précisent également la position de certains caractères de la regExp\n",
    "</p>\n",
    "\n",
    "<h5>Quelques quantifieurs</h5>\n",
    "a* <br/>\n",
    "a? <br/>\n",
    "a{n} <br/>\n",
    "a{n,m}<br/>\n",
    "a{n,}<br/>\n",
    "a{,n}<br/>\n",
    "a+<br/>\n",
    "^a<br/>\n",
    "a$<br/>\n",
    "a(?=b)<br/>\n",
    "a(?!b)<br/>\n"
   ]
  },
  {
   "cell_type": "code",
   "execution_count": 17,
   "id": "c7cf5e10",
   "metadata": {},
   "outputs": [
    {
     "data": {
      "text/plain": [
       "<re.Match object; span=(0, 2), match='10'>"
      ]
     },
     "execution_count": 17,
     "metadata": {},
     "output_type": "execute_result"
    }
   ],
   "source": [
    "#Illustration\n",
    "stringp =\"10,100,1020100,10000\"\n",
    "modelp = \"10+\"\n",
    "re.search(modelp,stringp)"
   ]
  },
  {
   "cell_type": "markdown",
   "id": "751812ae",
   "metadata": {},
   "source": [
    "<h5> La méthode findall</h5>\n",
    "\n",
    "\n",
    "                 re.findall(model,string) \n",
    "                 re.findall(model,string,flag)"
   ]
  },
  {
   "cell_type": "markdown",
   "id": "761e53f9",
   "metadata": {},
   "source": [
    "<h5> La méthode fullmatch</h5>\n",
    "\n",
    "\n",
    "                 re.fullmatch(model,string) \n",
    "                 re.fullmatch(model,string,flag)"
   ]
  },
  {
   "cell_type": "code",
   "execution_count": 18,
   "id": "1971bf71",
   "metadata": {},
   "outputs": [
    {
     "data": {
      "text/plain": [
       "['10', '100', '10', '100', '10000']"
      ]
     },
     "execution_count": 18,
     "metadata": {},
     "output_type": "execute_result"
    }
   ],
   "source": [
    "#Illustration\n",
    "re.findall(modelp,stringp)"
   ]
  },
  {
   "cell_type": "code",
   "execution_count": 21,
   "id": "1b51047f",
   "metadata": {},
   "outputs": [
    {
     "name": "stdout",
     "output_type": "stream",
     "text": [
      "<re.Match object; span=(30, 31), match='x'>\n",
      "La chaine vérifie le model \n"
     ]
    }
   ],
   "source": [
    "#Illustration\n",
    "phrase =\"On apprend à utiliser les regex en Python\"\n",
    "reg1=\"x+\"\n",
    "search(reg1,phrase)"
   ]
  },
  {
   "cell_type": "code",
   "execution_count": 22,
   "id": "d8d9f0eb",
   "metadata": {},
   "outputs": [
    {
     "name": "stdout",
     "output_type": "stream",
     "text": [
      "<re.Match object; span=(30, 31), match='x'>\n",
      "La chaine vérifie le model \n"
     ]
    }
   ],
   "source": [
    "#Illustration\n",
    "reg2=\"e(nd)?\"\n",
    "search(reg1,phrase)"
   ]
  },
  {
   "cell_type": "code",
   "execution_count": 65,
   "id": "a868345e",
   "metadata": {},
   "outputs": [
    {
     "name": "stdout",
     "output_type": "stream",
     "text": [
      "None\n",
      "La chaine ne vérifie pas le modèle\n"
     ]
    }
   ],
   "source": [
    "#Illustration\n",
    "reg3=\"e$\"\n",
    "search(reg3,phrase)"
   ]
  },
  {
   "cell_type": "code",
   "execution_count": 66,
   "id": "577e3df1",
   "metadata": {},
   "outputs": [
    {
     "name": "stdout",
     "output_type": "stream",
     "text": [
      "<re.Match object; span=(4, 6), match='pp'>\n",
      "La chaine vérifie le model \n"
     ]
    }
   ],
   "source": [
    "#Illustration\n",
    "reg4=\"p{2}\"\n",
    "search(reg4,phrase)"
   ]
  },
  {
   "cell_type": "code",
   "execution_count": 23,
   "id": "dfd8e9e0",
   "metadata": {},
   "outputs": [
    {
     "name": "stdout",
     "output_type": "stream",
     "text": [
      "<re.Match object; span=(35, 37), match='Py'>\n",
      "La chaine vérifie le model \n"
     ]
    }
   ],
   "source": [
    "#Illustration\n",
    "reg5=\"Py(?=thon)\"\n",
    "search(reg5,phrase)"
   ]
  },
  {
   "cell_type": "code",
   "execution_count": 78,
   "id": "5a9305bb",
   "metadata": {},
   "outputs": [
    {
     "name": "stdout",
     "output_type": "stream",
     "text": [
      "Je suis sur \n",
      " deux lignes en Python\n"
     ]
    },
    {
     "data": {
      "text/plain": [
       "<re.Match object; span=(0, 1), match='J'>"
      ]
     },
     "execution_count": 78,
     "metadata": {},
     "output_type": "execute_result"
    }
   ],
   "source": [
    "sentence =\"Je suis sur \\n deux lignes en Python\"\n",
    "print(sentence)\n",
    "re.search(\"j+\",sentence,re.I)"
   ]
  },
  {
   "cell_type": "code",
   "execution_count": 24,
   "id": "1b0ce87f",
   "metadata": {},
   "outputs": [
    {
     "name": "stdout",
     "output_type": "stream",
     "text": [
      "Je suis sur \n",
      " deux lignes en Python\n"
     ]
    },
    {
     "data": {
      "text/plain": [
       "[]"
      ]
     },
     "execution_count": 24,
     "metadata": {},
     "output_type": "execute_result"
    }
   ],
   "source": [
    "sentence =\"Je suis sur \\n deux lignes en Python\"\n",
    "print(sentence)\n",
    "re.findall(\"^d\",sentence,re.MULTILINE)"
   ]
  },
  {
   "cell_type": "code",
   "execution_count": 89,
   "id": "0a08d92e",
   "metadata": {},
   "outputs": [
    {
     "data": {
      "text/plain": [
       "['d']"
      ]
     },
     "execution_count": 89,
     "metadata": {},
     "output_type": "execute_result"
    }
   ],
   "source": [
    "sentence =\"Je suis sur \\ndeux lignes en Python\"\n",
    "re.findall(\"^d\",sentence,re.M)"
   ]
  },
  {
   "cell_type": "markdown",
   "id": "8da42f93",
   "metadata": {},
   "source": [
    "<h4>Les classes de caractères <h4>\n",
    "<h5>Définition <h5>\n",
    "    <p>\n",
    "        Plages de caractères  Utilisées dans une regExp pour indexer un ensemble de caractères dans une chaine \n",
    "      </p>\n",
    "\n",
    "<h5>Exemples  <h5>\n",
    "\n",
    "\n",
    " [abcd] <br/>\n",
    " [^abcd]<br/>\n",
    " [a-z]<br/>\n",
    " [A-Z]<br/>\n",
    " [G-J]<br/>\n",
    " [^i-m]<br/>\n",
    " [0-9]<br/>\n",
    " (mod1|mod2)<br/>\n"
   ]
  },
  {
   "cell_type": "code",
   "execution_count": 25,
   "id": "5a050b41",
   "metadata": {},
   "outputs": [],
   "source": [
    "#Illustration\n",
    "sentence = \"On apprend à utiliser les regex en Python\""
   ]
  },
  {
   "cell_type": "code",
   "execution_count": 26,
   "id": "eabc3e19",
   "metadata": {},
   "outputs": [
    {
     "name": "stdout",
     "output_type": "stream",
     "text": [
      "On apprend à utiliser les regex en Python\n"
     ]
    },
    {
     "data": {
      "text/plain": [
       "[]"
      ]
     },
     "execution_count": 26,
     "metadata": {},
     "output_type": "execute_result"
    }
   ],
   "source": [
    "#1\n",
    "print(sentence)\n",
    "re.findall(\"aeiuy\",sentence)"
   ]
  },
  {
   "cell_type": "code",
   "execution_count": 27,
   "id": "8452cc86",
   "metadata": {},
   "outputs": [
    {
     "name": "stdout",
     "output_type": "stream",
     "text": [
      "On apprend à utiliser les regex en Python\n"
     ]
    },
    {
     "data": {
      "text/plain": [
       "['a', 'e', 'u', 'i', 'i', 'e', 'e', 'e', 'e', 'e', 'y']"
      ]
     },
     "execution_count": 27,
     "metadata": {},
     "output_type": "execute_result"
    }
   ],
   "source": [
    "#2\n",
    "print(sentence)\n",
    "re.findall(\"[aeiuy]\",sentence)"
   ]
  },
  {
   "cell_type": "code",
   "execution_count": 94,
   "id": "87a60d70",
   "metadata": {},
   "outputs": [
    {
     "data": {
      "text/plain": [
       "['O', 'P']"
      ]
     },
     "execution_count": 94,
     "metadata": {},
     "output_type": "execute_result"
    }
   ],
   "source": [
    "#3\n",
    "print(sentence)\n",
    "re.findall(\"[C-X]\",sentence)"
   ]
  },
  {
   "cell_type": "code",
   "execution_count": 28,
   "id": "958ab2b7",
   "metadata": {},
   "outputs": [
    {
     "name": "stdout",
     "output_type": "stream",
     "text": [
      "On apprend à utiliser les regex en Python\n"
     ]
    },
    {
     "data": {
      "text/plain": [
       "['O',\n",
       " 'n',\n",
       " ' ',\n",
       " 'p',\n",
       " 'p',\n",
       " 'r',\n",
       " 'n',\n",
       " 'd',\n",
       " ' ',\n",
       " 'à',\n",
       " ' ',\n",
       " 't',\n",
       " 'l',\n",
       " 's',\n",
       " 'r',\n",
       " ' ',\n",
       " 'l',\n",
       " 's',\n",
       " ' ',\n",
       " 'r',\n",
       " 'g',\n",
       " 'x',\n",
       " ' ',\n",
       " 'n',\n",
       " ' ',\n",
       " 'P',\n",
       " 'y',\n",
       " 't',\n",
       " 'h',\n",
       " 'n']"
      ]
     },
     "execution_count": 28,
     "metadata": {},
     "output_type": "execute_result"
    }
   ],
   "source": [
    "#4\n",
    "print(sentence)\n",
    "re.findall(\"[^aeiou]\",sentence)"
   ]
  },
  {
   "cell_type": "code",
   "execution_count": 29,
   "id": "7ae1e57c",
   "metadata": {},
   "outputs": [
    {
     "data": {
      "text/plain": [
       "['O']"
      ]
     },
     "execution_count": 29,
     "metadata": {},
     "output_type": "execute_result"
    }
   ],
   "source": [
    "#5\n",
    "re.findall(\"^[A-Z]\",sentence)"
   ]
  },
  {
   "cell_type": "code",
   "execution_count": 30,
   "id": "527db7c5",
   "metadata": {},
   "outputs": [
    {
     "data": {
      "text/plain": [
       "[]"
      ]
     },
     "execution_count": 30,
     "metadata": {},
     "output_type": "execute_result"
    }
   ],
   "source": [
    "#6\n",
    "#sentence=\"J'apprend à utiliser les regex en Python en 2022\"\n",
    "re.findall(\"[0-9]{4}\",sentence)"
   ]
  },
  {
   "cell_type": "code",
   "execution_count": 226,
   "id": "73c702f8",
   "metadata": {},
   "outputs": [
    {
     "data": {
      "text/plain": [
       "['o', 'y', 'o', 'u', 'w', 'a', 'n', 'n', 'a', 'e', 'a', 't']"
      ]
     },
     "execution_count": 226,
     "metadata": {},
     "output_type": "execute_result"
    }
   ],
   "source": [
    "#6\n",
    "#sentence=\"J'apprend à utiliser les regex en Python en 2022\"\n",
    "re.findall(\"[a-zàéeè]\",sentence)"
   ]
  },
  {
   "cell_type": "code",
   "execution_count": 102,
   "id": "fc0595e4",
   "metadata": {},
   "outputs": [
    {
     "data": {
      "text/plain": [
       "['J',\n",
       " 'a',\n",
       " 'p',\n",
       " 'p',\n",
       " 'r',\n",
       " 'e',\n",
       " 'n',\n",
       " 'd',\n",
       " 'u',\n",
       " 't',\n",
       " 'i',\n",
       " 'l',\n",
       " 'i',\n",
       " 's',\n",
       " 'e',\n",
       " 'r',\n",
       " 'l',\n",
       " 'e',\n",
       " 's',\n",
       " 'r',\n",
       " 'e',\n",
       " 'g',\n",
       " 'e',\n",
       " 'x',\n",
       " 'e',\n",
       " 'n',\n",
       " 'P',\n",
       " 'y',\n",
       " 't',\n",
       " 'h',\n",
       " 'o',\n",
       " 'n',\n",
       " 'e',\n",
       " 'n',\n",
       " '2',\n",
       " '0',\n",
       " '2',\n",
       " '2']"
      ]
     },
     "execution_count": 102,
     "metadata": {},
     "output_type": "execute_result"
    }
   ],
   "source": [
    "#6\n",
    "print(sentence)\n",
    "re.findall(\"[A-Za-z0-9]\",sentence)"
   ]
  },
  {
   "cell_type": "code",
   "execution_count": 103,
   "id": "7bdb5918",
   "metadata": {},
   "outputs": [
    {
     "data": {
      "text/plain": [
       "[\"'\", ' ', 'à', ' ', ' ', ' ', ' ', ' ', ' ', ' ', '2', '0', '2', '2']"
      ]
     },
     "execution_count": 103,
     "metadata": {},
     "output_type": "execute_result"
    }
   ],
   "source": [
    "#6\n",
    "#sentence=\"J'apprend à utiliser les regex en Python en 2022\"\n",
    "re.findall(\"[^A-Za-z]\",sentence)"
   ]
  },
  {
   "cell_type": "code",
   "execution_count": 31,
   "id": "92c28969",
   "metadata": {},
   "outputs": [
    {
     "name": "stdout",
     "output_type": "stream",
     "text": [
      "J'apprend à utiliser les [regex] en Python en 2022\n"
     ]
    },
    {
     "data": {
      "text/plain": [
       "['r', 'e', 'e', 'r', 'e', 'r', 'e', 'g', 'e', 'x', 'e', 'e']"
      ]
     },
     "execution_count": 31,
     "metadata": {},
     "output_type": "execute_result"
    }
   ],
   "source": [
    "#6\n",
    "sentence=\"J'apprend à utiliser les [regex] en Python en 2022\"\n",
    "print(sentence)\n",
    "re.findall(\"[regex]\",sentence)\n",
    "#re.findall(\"\\[regex\\]\",sentence)"
   ]
  },
  {
   "cell_type": "code",
   "execution_count": 228,
   "id": "bfbb5a62",
   "metadata": {},
   "outputs": [
    {
     "name": "stdout",
     "output_type": "stream",
     "text": [
      "Do you wanna eat ?\n"
     ]
    },
    {
     "data": {
      "text/plain": [
       "['?']"
      ]
     },
     "execution_count": 228,
     "metadata": {},
     "output_type": "execute_result"
    }
   ],
   "source": [
    "#6\n",
    "sentence=\"Do you wanna eat ?\"\n",
    "print(sentence)\n",
    "re.findall(\"\\?$\",sentence)\n"
   ]
  },
  {
   "cell_type": "code",
   "execution_count": 32,
   "id": "e514dc9a",
   "metadata": {},
   "outputs": [
    {
     "name": "stdout",
     "output_type": "stream",
     "text": [
      "J'apprend à utiliser les [regex] en Python en 2022\n",
      "None\n"
     ]
    }
   ],
   "source": [
    "sent = \"Ouf! J'aurais du t'écouter\"\n",
    "print(sentence)\n",
    "print(re.search(\"!$\",sentence))"
   ]
  },
  {
   "cell_type": "markdown",
   "id": "c9f129ef",
   "metadata": {},
   "source": [
    "<h4>Les métacaractères </h4>\n",
    "\n",
    "<h5>Définition<h5>\n",
    "<p>\n",
    "    Classes de caractères abrégées\n",
    "    </p>\n",
    "\n",
    "<h5>Quelques métacaractères<h5>\n",
    "\\d    [0-9]  <br/>\n",
    "\\D    [^0-9]  <br/>\n",
    "\\w    [A-Za-z-0-9_]  <br/>\n",
    "\\W    [^A-Za-z-0-9_] <br/>\n",
    "\\s    [\\t\\n\\r\\f] <br/>\n",
    "\\S    [^\\t\\n\\r\\f] <br/>\n",
    "\\n <br/>\n",
    "\\t <br/>\n",
    ".     [^\\n] <br/>"
   ]
  },
  {
   "cell_type": "code",
   "execution_count": 33,
   "id": "cc13e514",
   "metadata": {},
   "outputs": [
    {
     "name": "stdout",
     "output_type": "stream",
     "text": [
      "<re.Match object; span=(0, 5), match='95824'>\n",
      "La chaine vérifie le model \n"
     ]
    }
   ],
   "source": [
    "#Application\n",
    "tel=\"95824746\"\n",
    "search(\"\\d{5}\",tel)"
   ]
  },
  {
   "cell_type": "code",
   "execution_count": 34,
   "id": "36d0b9f5",
   "metadata": {},
   "outputs": [
    {
     "name": "stdout",
     "output_type": "stream",
     "text": [
      "<re.Match object; span=(9, 10), match='\\n'>\n",
      "La chaine vérifie le model \n"
     ]
    }
   ],
   "source": [
    "#Application\n",
    "define = \"justAtest\\n\"\n",
    "search(\"\\n$\",define)"
   ]
  },
  {
   "cell_type": "code",
   "execution_count": 128,
   "id": "3baa7f9d",
   "metadata": {},
   "outputs": [
    {
     "name": "stdout",
     "output_type": "stream",
     "text": [
      "None\n",
      "La chaine ne vérifie pas le modèle\n"
     ]
    }
   ],
   "source": [
    "var = \"\"\n",
    "search(\".\",var)"
   ]
  },
  {
   "cell_type": "code",
   "execution_count": 131,
   "id": "47e0663a",
   "metadata": {},
   "outputs": [
    {
     "data": {
      "text/plain": [
       "['e', 'r']"
      ]
     },
     "execution_count": 131,
     "metadata": {},
     "output_type": "execute_result"
    }
   ],
   "source": [
    "var = \"er\\n\"\n",
    "re.findall(\".\",var)"
   ]
  },
  {
   "cell_type": "code",
   "execution_count": 135,
   "id": "642a6e06",
   "metadata": {},
   "outputs": [
    {
     "data": {
      "text/plain": [
       "['e', 'r', '\\n', 'd', 'e', '\\n']"
      ]
     },
     "execution_count": 135,
     "metadata": {},
     "output_type": "execute_result"
    }
   ],
   "source": [
    "var = \"er\\nde\\n\"\n",
    "re.findall(\".\",var,re.DOTALL)"
   ]
  },
  {
   "cell_type": "markdown",
   "id": "4dc9c08c",
   "metadata": {},
   "source": [
    "<h5> La méthode sub</h5>\n",
    "\n",
    "\n",
    "                 re.sub(model,a_remplacer,stringInitial) \n",
    "                re.sub(model,a_remplacer,stringInitial,count) \n",
    "              re.sub(model,a_remplacer,stringInitial,count,flags) \n",
    "                 "
   ]
  },
  {
   "cell_type": "code",
   "execution_count": 37,
   "id": "189444d9",
   "metadata": {},
   "outputs": [
    {
     "data": {
      "text/plain": [
       "'Vous êtes au numero  le suivant sera donc '"
      ]
     },
     "execution_count": 37,
     "metadata": {},
     "output_type": "execute_result"
    }
   ],
   "source": [
    "#La méthode sub\n",
    "texte = \"Vous êtes au numero 123 le suivant sera donc 124\"\n",
    "regex=\"\\d\"\n",
    "re.sub(regex,\"\",texte)\n",
    "#print(texte)"
   ]
  },
  {
   "cell_type": "code",
   "execution_count": 38,
   "id": "8d1fd3a6",
   "metadata": {},
   "outputs": [
    {
     "name": "stdout",
     "output_type": "stream",
     "text": [
      "J'ai 2  femmes, 3 enfants dont 1 garçon\n",
      "Vous êtes au numero deux23 le suivant sera donc 124\n"
     ]
    }
   ],
   "source": [
    "#La méthode sub\n",
    "text = \"J'ai 2  femmes, 3 enfants dont 1 garçon\"\n",
    "print(text)\n",
    "regex=\"\\d\"\n",
    "res =re.sub(regex,\"deux\",texte,count=1)\n",
    "#res =re.sub(regex,\"deux\",texte,1)\n",
    "print(res)\n"
   ]
  },
  {
   "cell_type": "code",
   "execution_count": 170,
   "id": "0bcdf5b1",
   "metadata": {},
   "outputs": [
    {
     "name": "stdout",
     "output_type": "stream",
     "text": [
      "J'ai deux  femmes, 3 enfants dont 1 garçon\n"
     ]
    }
   ],
   "source": [
    "print(res)"
   ]
  },
  {
   "cell_type": "code",
   "execution_count": 171,
   "id": "7406b7e7",
   "metadata": {},
   "outputs": [
    {
     "name": "stdout",
     "output_type": "stream",
     "text": [
      "J'ai deux  femmes, 3 enfants dont 1 garçon\n",
      "J'ai 2  femmes, 3 enfants dont 1 garçon\n"
     ]
    }
   ],
   "source": [
    "print(res)\n",
    "res=re.sub(\"DeUx\",\"2\",res,flags=re.I)\n",
    "print(res)"
   ]
  },
  {
   "cell_type": "markdown",
   "id": "371b0ea4",
   "metadata": {},
   "source": [
    "<h5> La méthode subn</h5>\n",
    "\n",
    "\n",
    "                 "
   ]
  },
  {
   "cell_type": "code",
   "execution_count": 39,
   "id": "c99d040b",
   "metadata": {},
   "outputs": [
    {
     "data": {
      "text/plain": [
       "('Vous êtes au numero  le suivant sera donc ', 6)"
      ]
     },
     "execution_count": 39,
     "metadata": {},
     "output_type": "execute_result"
    }
   ],
   "source": [
    "#La méthode subn\n",
    "texte = \"Vous êtes au numero 123 le suivant sera donc 124\"\n",
    "regex=\"\\d\"\n",
    "re.subn(regex,\"\",texte)\n",
    "#print(texte)"
   ]
  },
  {
   "cell_type": "markdown",
   "id": "99a57d65",
   "metadata": {},
   "source": [
    "<h5> regExps compilées</h5>\n",
    "\n",
    "\n",
    "                "
   ]
  },
  {
   "cell_type": "code",
   "execution_count": 40,
   "id": "7e89def6",
   "metadata": {},
   "outputs": [
    {
     "data": {
      "text/plain": [
       "('Aecb', 2)"
      ]
     },
     "execution_count": 40,
     "metadata": {},
     "output_type": "execute_result"
    }
   ],
   "source": [
    "#Expression régulières compilées\n",
    "regExp='a+'\n",
    "x = re.compile(regExp)\n",
    "re.subn(regExp,\"\",\"Aecaaba\",re.I)"
   ]
  },
  {
   "cell_type": "code",
   "execution_count": 231,
   "id": "535f4834",
   "metadata": {},
   "outputs": [
    {
     "data": {
      "text/plain": [
       "('Aec0b0', 2)"
      ]
     },
     "execution_count": 231,
     "metadata": {},
     "output_type": "execute_result"
    }
   ],
   "source": [
    "regEx='a+'\n",
    "y = re.compile(regEx,re.I)\n",
    "re.subn(regEx,\"0\",\"Aecaaba\",re.I)"
   ]
  },
  {
   "cell_type": "code",
   "execution_count": 41,
   "id": "c64565a9",
   "metadata": {},
   "outputs": [
    {
     "name": "stdout",
     "output_type": "stream",
     "text": [
      "L'email adedeezechiel@gmail est invalide\n",
      "L'email ezechiel.adede@imsp-uac.org  est valide\n",
      "L'email adedeezechiel@gmail.org  est valide\n",
      "L'email adedeezechiel@gmail.com  est valide\n",
      "L'email jordangmailcom est invalide\n"
     ]
    }
   ],
   "source": [
    "#Mise en pratique : Validation d'une adresse email\n",
    "\n",
    "def  validateEmail(email):\n",
    "                        \n",
    "                         model_email =\"^[A-Za-z]+\\.?\\w+@[A-Za-z0-9_-]+\\.\\w+$\"\n",
    "                         if re.search(model_email,email)  :\n",
    "                                               print(\"L'email\",email,\" est valide\")\n",
    "                         else :\n",
    "                            print(\"L'email\",email,\"est invalide\")\n",
    "     \n",
    "    \n",
    "validateEmail(\"adedeezechiel@gmail\") \n",
    "validateEmail(\"ezechiel.adede@imsp-uac.org\")  \n",
    "        \n",
    "validateEmail(\"adedeezechiel@gmail.org\") \n",
    " \n",
    "validateEmail(\"adedeezechiel@gmail.com\") \n",
    "validateEmail(\"jordangmailcom\") \n",
    "\n"
   ]
  },
  {
   "cell_type": "code",
   "execution_count": null,
   "id": "8e1f1192",
   "metadata": {},
   "outputs": [],
   "source": []
  }
 ],
 "metadata": {
  "kernelspec": {
   "display_name": "Python 3 (ipykernel)",
   "language": "python",
   "name": "python3"
  },
  "language_info": {
   "codemirror_mode": {
    "name": "ipython",
    "version": 3
   },
   "file_extension": ".py",
   "mimetype": "text/x-python",
   "name": "python",
   "nbconvert_exporter": "python",
   "pygments_lexer": "ipython3",
   "version": "3.8.10"
  }
 },
 "nbformat": 4,
 "nbformat_minor": 5
}
