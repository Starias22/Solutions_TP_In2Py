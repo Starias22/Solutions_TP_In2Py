{
 "cells": [
  {
   "cell_type": "markdown",
   "id": "22f02e1a",
   "metadata": {
    "id": "22f02e1a"
   },
   "source": [
    "\n",
    "### <center> <b> <span style=\"color:blue;\"> Travaux Pratiques: Variables, Types & Opérations </span> </b></center>"
   ]
  },
  {
   "cell_type": "markdown",
   "id": "ddc667e7",
   "metadata": {
    "id": "ddc667e7"
   },
   "source": [
    "**Exercise 00:**  \n",
    ">\n",
    "\n",
    "  \n",
    "> 1. Déclarez une variable `prenom` et attribuez-lui une valeur.\n",
    "  > 2. Déclarez une variable `nom` et attribuez-lui une valeur.\n",
    "  > 3. Déclarez une variable `prenom_nom` et attribuez-lui une valeur.\n",
    "  > 4. Déclarez une variable `pays` et attribuez-lui une valeur.\n",
    "  > 5. Déclarez une variable `ville` et attribuez-lui une valeur.\n",
    "  > 6. Déclarez une variable `age` et attribuez-lui une valeur.\n",
    "  > 7. Déclarez une variable `annee` et attribuez-lui une valeur.\n",
    "  > 8. Déclarez une variable `est_marie` et attribuez-lui une valeur.\n",
    "  > 9. Déclarez une variable `est_vrai` et attribuez-lui une valeur.\n",
    "\n",
    "> Pour chacune des variables ci-dessus, affichez la valeur qu'elle contient à l'aide de la fonction `print()`.\n",
    "\n"
   ]
  },
  {
   "cell_type": "code",
   "execution_count": 22,
   "id": "ebd3951d",
   "metadata": {
    "id": "ebd3951d"
   },
   "outputs": [
    {
     "name": "stdout",
     "output_type": "stream",
     "text": [
      "Ezéchiel\n",
      "ADEDE\n",
      "Perez BROL\n",
      "Bénin\n",
      "Cotonou\n",
      "19\n",
      "2022\n",
      "False\n",
      "True\n"
     ]
    }
   ],
   "source": [
    "#1\n",
    "prenom =\"Ezéchiel\"\n",
    "\n",
    "#2\n",
    "nom = \"ADEDE\"\n",
    "\n",
    "#3\n",
    "prenom_nom = \"Perez BROL\"\n",
    "\n",
    "#4\n",
    "pays =\"Bénin\"\n",
    "\n",
    "#5\n",
    "ville = \"Cotonou\"\n",
    "\n",
    "#6\n",
    "age = 19\n",
    "\n",
    "#7\n",
    "annee = 2022\n",
    "\n",
    "#8\n",
    "est_marie = False \n",
    "\n",
    "#9\n",
    "est_vrai = True\n",
    "\n",
    "\n",
    "print(prenom)\n",
    "\n",
    "print(nom)\n",
    "\n",
    "print(prenom_nom)\n",
    "print(pays) \n",
    "print(ville )\n",
    "print(age)\n",
    "print(annee) \n",
    "print(est_marie)\n",
    "\n",
    "print(est_vrai )\n",
    "\n"
   ]
  },
  {
   "cell_type": "markdown",
   "id": "85eb4f96",
   "metadata": {
    "id": "85eb4f96"
   },
   "source": [
    "**Exercise 01:** \n",
    "> Vérifiez le type de données de toutes vos variables à l'aide de la fonction intégrée `type()`.**\n"
   ]
  },
  {
   "cell_type": "code",
   "execution_count": 33,
   "id": "c5c47124",
   "metadata": {
    "id": "c5c47124",
    "scrolled": false
   },
   "outputs": [
    {
     "data": {
      "text/plain": [
       "bool"
      ]
     },
     "execution_count": 33,
     "metadata": {},
     "output_type": "execute_result"
    }
   ],
   "source": [
    "type(prenom)\n",
    "type(nom)\n",
    "type(prenom_nom)\n",
    "type(ville)\n",
    "type(age)\n",
    "type (annee)\n",
    "type(est_marie)\n",
    "type(est_vrai)\n",
    "# Décommenter pour avoir le type "
   ]
  },
  {
   "cell_type": "markdown",
   "id": "76cdc19b",
   "metadata": {
    "id": "76cdc19b"
   },
   "source": [
    "**Exercise 02:** \n",
    "> Calculez la valeur de $y$ ($y = x^2 + 6x + 9$). Essayez d'utiliser différentes valeurs de $x$ et déterminez à quelle valeur de $x$ $y$ sera égal à 0.**"
   ]
  },
  {
   "cell_type": "code",
   "execution_count": 25,
   "id": "fb4df11a",
   "metadata": {
    "id": "fb4df11a"
   },
   "outputs": [
    {
     "name": "stdout",
     "output_type": "stream",
     "text": [
      "9\n",
      "16\n",
      "25\n",
      "36\n",
      "0\n",
      "y = 0 pour x = -3\n"
     ]
    }
   ],
   "source": [
    "x = 0\n",
    "y = x*x +6*x+9\n",
    "print(y)\n",
    "\n",
    "x = 1\n",
    "y = x*x +6*x+9\n",
    "print(y)\n",
    "\n",
    "\n",
    "x = 2\n",
    "y = x*x +6*x+9\n",
    "print(y)\n",
    "\n",
    "\n",
    "x = 3\n",
    "y = x*x +6*x+9\n",
    "print(y)\n",
    "\n",
    "x = -3\n",
    "y = x*x +6*x+9\n",
    "print(y)\n",
    "\n",
    "print(\"y = 0 pour x = -3\")\n"
   ]
  },
  {
   "cell_type": "markdown",
   "id": "8f40e3ab",
   "metadata": {
    "id": "8f40e3ab"
   },
   "source": [
    "**Exercise 03:**    \n",
    "\n",
    "     1. Déclarez votre âge sous forme de variable entière\n",
    "     2. Déclarez votre taille en tant que variable flottante\n",
    "     3. Déclarez une variable qui stocke la base et la hauteur d'un triangle. Calculez l'aire de ce triangle (aire = 0,5 x b x h)."
   ]
  },
  {
   "cell_type": "code",
   "execution_count": 26,
   "id": "rpAlhgG_9A5z",
   "metadata": {
    "id": "rpAlhgG_9A5z"
   },
   "outputs": [
    {
     "name": "stdout",
     "output_type": "stream",
     "text": [
      "15.0\n"
     ]
    }
   ],
   "source": [
    "#1\n",
    "pige = 19\n",
    "\n",
    "#2 \n",
    "taille = 1.75\n",
    "\n",
    "#3\n",
    "b = 5\n",
    "h = 6\n",
    "aire = 0.5*b*h\n",
    "\n",
    "print(aire)\n"
   ]
  },
  {
   "cell_type": "markdown",
   "id": "9957391d",
   "metadata": {
    "id": "9957391d"
   },
   "source": [
    "## *Astuce : recevoir les entrées de l'utilisateur *\n",
    "**Pour recevoir une entrée de l'utilisateur, nous utilisons `input()`.**.\n",
    "\n",
    "**Exemple**\n",
    "Recevez deux nombres en entrée de l'utilisateur et calculez leur puissance :\n",
    "```python\n",
    "base = input(\"Entrez une base : \")\n",
    "exposant = input(\"Entrez un exposant : \")\n",
    "resultat = float(base) ** float(exposant)\n",
    "print(f \"{base} à la puissance {exposant} = {résultat}\")\n",
    "```"
   ]
  },
  {
   "cell_type": "markdown",
   "id": "0fb34716",
   "metadata": {
    "id": "0fb34716"
   },
   "source": [
    "**Exercise 04:** \n",
    "> **Write a small code that asks the user to enter the side $a$, the side $b$ and the side $c$ of a triangle. Calculate the perimeter of the triangle (perimeter = a + b + c).**"
   ]
  },
  {
   "cell_type": "code",
   "execution_count": 27,
   "id": "6618f067",
   "metadata": {
    "id": "6618f067"
   },
   "outputs": [
    {
     "name": "stdout",
     "output_type": "stream",
     "text": [
      "Inter the side a4\n",
      "Inter the side b4\n",
      "Inter the side c5\n",
      "13.0\n"
     ]
    }
   ],
   "source": [
    "a = input(\"Inter the side a\")\n",
    "a = float(a)\n",
    "\n",
    "b = input(\"Inter the side b\")\n",
    "b = float(b)\n",
    "\n",
    "c = input(\"Inter the side c\")\n",
    "c = float(c)\n",
    "perimeter = a+b+c\n",
    "\n",
    "print(perimeter)"
   ]
  },
  {
   "cell_type": "markdown",
   "id": "e482c15c",
   "metadata": {
    "id": "e482c15c"
   },
   "source": [
    "**Exercise 05:** \n",
    "> **Obtenez la longueur et la largeur d'un rectangle à l'aide de l'invite. Calculer sa `superficie` et son `perimetre`.**"
   ]
  },
  {
   "cell_type": "code",
   "execution_count": 31,
   "id": "286cec4c",
   "metadata": {
    "id": "286cec4c"
   },
   "outputs": [
    {
     "name": "stdout",
     "output_type": "stream",
     "text": [
      "Entrer la longueur du rectangle : 8\n",
      "Entrer la largeur du rectangle : 9\n",
      "superficie = 72.0\n",
      "périmètre = 17.0\n"
     ]
    }
   ],
   "source": [
    "length = input(\"Entrer la longueur du rectangle : \")\n",
    "length = float (length)\n",
    "\n",
    "width =input (\"Entrer la largeur du rectangle : \")\n",
    "width = float (width)\n",
    "area = length * width\n",
    "perimeter = length + width \n",
    "\n",
    "print(\"superficie =\",area)\n",
    "print(\"périmètre =\",perimeter)\n",
    "\n"
   ]
  },
  {
   "cell_type": "markdown",
   "id": "cf15844c",
   "metadata": {
    "id": "cf15844c"
   },
   "source": [
    "**Exercice 06:** \n",
    "> **Obtenez le rayon d'un cercle en utilisant l'invite. Calculez l'aire (aire = pi x r x r) et la circonférence (c = 2 x pi x r) où pi = 3,14.**"
   ]
  },
  {
   "cell_type": "code",
   "execution_count": 34,
   "id": "ee0ee85e",
   "metadata": {
    "id": "ee0ee85e"
   },
   "outputs": [
    {
     "name": "stdout",
     "output_type": "stream",
     "text": [
      "Entrer la rayon de votre cercle : 8\n",
      "aire = 200.96\n",
      "circonférence = 50.24\n"
     ]
    }
   ],
   "source": [
    "radius = input(\"Entrer la rayon de votre cercle : \")\n",
    "radius = float(radius)\n",
    "\n",
    "area = radius*radius*3.14\n",
    "circumference = 2*3.14*radius\n",
    "\n",
    "\n",
    "print(\"aire =\",area)\n",
    "print(\"circonférence =\",circumference)\n"
   ]
  },
  {
   "cell_type": "markdown",
   "id": "d9dec37a",
   "metadata": {
    "id": "d9dec37a"
   },
   "source": [
    "**Exercice 07:**\n",
    "> **Calculez la pente, l'ordonnée à l'origine en x et l'ordonnée à l'origine en $y$ de $y = 2x -2$.**"
   ]
  },
  {
   "cell_type": "code",
   "execution_count": 7,
   "id": "203e449c",
   "metadata": {
    "id": "203e449c"
   },
   "outputs": [
    {
     "name": "stdout",
     "output_type": "stream",
     "text": [
      "La pente est 2\n",
      "L'ordonnée à l'origine  est  -2\n",
      "L'abscisse  à l'origine  est  1.0\n"
     ]
    }
   ],
   "source": [
    "\n",
    "pente = 2\n",
    "print(\"La pente est \"+str(pente))\n",
    "\n",
    "x=0\n",
    "y = 2*x-2\n",
    "\n",
    "\n",
    "print(\"L'ordonnée à l'origine  est  \"+str(y))\n",
    "\n",
    "y =0\n",
    "x =0.5*(y+2)\n",
    "\n",
    "print(\"L'abscisse  à l'origine  est  \"+str(x))"
   ]
  },
  {
   "cell_type": "markdown",
   "id": "2f74d685",
   "metadata": {
    "id": "2f74d685"
   },
   "source": [
    "**Exercice 08:** \n",
    "> **Rédigez un script qui demande à l'utilisateur d'entrer les heures et le taux horaire. Calculez la rémunération de la personne ?**"
   ]
  },
  {
   "cell_type": "code",
   "execution_count": 35,
   "id": "7cff5a0a",
   "metadata": {
    "id": "7cff5a0a"
   },
   "outputs": [
    {
     "name": "stdout",
     "output_type": "stream",
     "text": [
      "Entrez les heures : 40\n",
      "Entrez le taux horaire : 1500\n",
      "Rémunération : 60000.0\n"
     ]
    }
   ],
   "source": [
    "heures = input(\"Entrez les heures : \")\n",
    "heures = int (heures)\n",
    "taux_horaire = input(\"Entrez le taux horaire : \")\n",
    "taux_horaire = float(taux_horaire)\n",
    "remuneration = heures * taux_horaire\n",
    "\n",
    "print(\"Rémunération : \" +str(remuneration))"
   ]
  },
  {
   "cell_type": "markdown",
   "id": "6ddd662c",
   "metadata": {
    "id": "6ddd662c"
   },
   "source": [
    "**Exercice 09:** \n",
    "> **Écrivez un script qui demande à l'utilisateur d'entrer le nombre d'années. Calculez le nombre de secondes qu'une personne peut vivre. Supposons qu'une personne puisse vivre cent ans.**"
   ]
  },
  {
   "cell_type": "code",
   "execution_count": 37,
   "id": "44c2a63c",
   "metadata": {
    "id": "44c2a63c"
   },
   "outputs": [
    {
     "name": "stdout",
     "output_type": "stream",
     "text": [
      "Entrez le nombre d'années : 80\n",
      "Nombre de secondes : 2522880000\n"
     ]
    }
   ],
   "source": [
    "number_of_years = input(\"Entrez le nombre d'années : \")\n",
    "number_of_years = int(number_of_years)\n",
    "seconds = number_of_years*365*24*3600\n",
    "\n",
    "print(\"Nombre de secondes : \"+str(seconds))"
   ]
  },
  {
   "cell_type": "markdown",
   "id": "9b253387",
   "metadata": {
    "id": "9b253387"
   },
   "source": [
    "**Exercice 10:** \n",
    "> **Écrivez un script Python qui affiche le tableau suivant**\n",
    "\n",
    "    1 1 1 1 1\n",
    "    \n",
    "    2 1 2 4 8\n",
    "    \n",
    "    3 1 3 9 27\n",
    "    \n",
    "    4 1 4 16 64\n",
    "    \n",
    "    5 1 5 25 125"
   ]
  },
  {
   "cell_type": "code",
   "execution_count": 7,
   "id": "aa2dae84",
   "metadata": {
    "id": "aa2dae84"
   },
   "outputs": [
    {
     "name": "stdout",
     "output_type": "stream",
     "text": [
      "1 1 1 1 1 \n",
      "\n",
      "\n",
      "2 1 2 4 8\n",
      "\n",
      "\n",
      "3 1 3 9 27\n",
      "\n",
      "\n",
      "4 1 4 16 64\n",
      "\n",
      "\n",
      "5 1 5 25 125\n",
      "\n",
      "\n"
     ]
    }
   ],
   "source": [
    "print(5*\"1 \")\n",
    "print(\"\\n\")\n",
    "print(\"2 1 2 4 8\")\n",
    "print(\"\\n\")\n",
    "print(\"3 1 3 9 27\")\n",
    "print(\"\\n\")\n",
    "print(\"4 1 4 16 64\")\n",
    "print(\"\\n\")\n",
    "print(\"5 1 5 25 125\")\n",
    "print(\"\\n\")"
   ]
  },
  {
   "cell_type": "markdown",
   "id": "953e7d8c",
   "metadata": {
    "id": "953e7d8c"
   },
   "source": [
    "**Exercise 11:** \n",
    ">**Attribuez aux variables `temps` et `distance` les valeurs $6.892$ et $19.7$. Calculer et afficher la valeur de la vitesse. Améliorer l'affichage en imposant un chiffre après la virgule.**"
   ]
  },
  {
   "cell_type": "code",
   "execution_count": 10,
   "id": "6d787289",
   "metadata": {
    "id": "6d787289"
   },
   "outputs": [
    {
     "name": "stdout",
     "output_type": "stream",
     "text": [
      "2.8583865351131745\n",
      "vitesse = 2.8583865351131745\n",
      "\n",
      " vitesse = 2.9 m/s\n"
     ]
    }
   ],
   "source": [
    "temps = 6.892\n",
    "distance = 19.7\n",
    "vitesse = distance/temps\n",
    "print(vitesse)\n",
    "\n",
    "print(\"vitesse =\" ,vitesse)\n",
    "\n",
    "print(\"\\n vitesse = {:.1f} \".format(vitesse)) "
   ]
  },
  {
   "cell_type": "markdown",
   "id": "2d0f1ff9",
   "metadata": {
    "id": "2d0f1ff9"
   },
   "source": [
    "**Exercice 12:** \n",
    "> **Écrire un programme qui, à partir de la saisie d’un rayon et d’une hauteur, calcule levolume d’un cône droit.**"
   ]
  },
  {
   "cell_type": "code",
   "execution_count": 66,
   "id": "969f5f68",
   "metadata": {
    "id": "969f5f68"
   },
   "outputs": [
    {
     "name": "stdout",
     "output_type": "stream",
     "text": [
      "Entrez le rayon4\n",
      "Entrez la hauteur5\n",
      "83.73333333333333\n"
     ]
    }
   ],
   "source": [
    "radius = input(\"Entrez le rayon\")\n",
    "height = input(\"Entrez la hauteur\")\n",
    "\n",
    "radius = float(radius)\n",
    "height = float(height)\n",
    "\n",
    "capacity =(1/3) * 3.14*radius*radius*height\n",
    "\n",
    "print(capacity)\n"
   ]
  },
  {
   "cell_type": "markdown",
   "id": "e9b3ce2a",
   "metadata": {
    "id": "e9b3ce2a"
   },
   "source": [
    "**Exercise 13:** \n",
    "> **L'utilisateur donne un entier positif et le programme annonce combien de fois de suite cet entier est divisible par 2.**"
   ]
  },
  {
   "cell_type": "code",
   "execution_count": 41,
   "id": "5c8fea9a",
   "metadata": {
    "id": "5c8fea9a"
   },
   "outputs": [
    {
     "name": "stdout",
     "output_type": "stream",
     "text": [
      "Entrez un nombre : 7\n",
      "7 est divisible 2 de suite par 2\n"
     ]
    }
   ],
   "source": [
    "\n",
    "n = int (input(\"Entrez un nombre : \"))\n",
    "\n",
    "b=bin(n) #Pour convertir n en binaire\n",
    "\n",
    "nb_fois=len(b)-3\n",
    "print(str(n)+\" est divisible \"+str(nb_fois)+\" de suite par 2\")"
   ]
  },
  {
   "cell_type": "markdown",
   "id": "0485aed6",
   "metadata": {
    "id": "0485aed6"
   },
   "source": [
    "**Exercise 14:** \n",
    ">**L'utilisateur donne un nombre entier entre 2 et 12, le programme donne le nombre de façons de le faire en lançant deux dés.**"
   ]
  },
  {
   "cell_type": "code",
   "execution_count": 45,
   "id": "31f48a15",
   "metadata": {
    "id": "31f48a15"
   },
   "outputs": [
    {
     "name": "stdout",
     "output_type": "stream",
     "text": [
      "Entrer un entier entre 2 et 1215\n",
      "On peut obtenir 15 de 0 façon(s) en lançant deux dés\n"
     ]
    }
   ],
   "source": [
    "n=int(input(\"Entrer un entier entre 2 et 12\"))\n",
    "nb_facon = 0\n",
    "print(\"On peut obtenir\",n ,\"de\",nb_facon,\"façon(s) en lançant deux dés\")"
   ]
  },
  {
   "cell_type": "markdown",
   "id": "cead0c8f",
   "metadata": {
    "id": "cead0c8f"
   },
   "source": [
    "**Exercice 15:** \n",
    "> **Utilisez la fonction d'entrée intégrée `input()` pour obtenir le `_prénom_`, le `_nom_`, le `_pays_d_origine` et l'`_age_` d'un utilisateur et stockez la valeur dans les noms des variables correspondantes.**"
   ]
  },
  {
   "cell_type": "code",
   "execution_count": 1,
   "id": "0a2694a9",
   "metadata": {
    "id": "0a2694a9"
   },
   "outputs": [
    {
     "name": "stdout",
     "output_type": "stream",
     "text": [
      "Entrer votre prénom : Ezéchiel\n",
      "Entrer votre nom : ADEDE\n",
      "Entrer votre pays d'origine : Bénin\n",
      "Entrer votre age : 19\n"
     ]
    }
   ],
   "source": [
    "_prénom_=input(\"Entrer votre prénom : \")\n",
    "_nom_=input(\"Entrer votre nom : \")\n",
    "_pays_d_origine_=input(\"Entrer votre pays d'origine : \")\n",
    "_age_=input(\"Entrer votre age : \")\n",
    "\n",
    "\n",
    "_prénom_=str(_prénom_)\n",
    "_nom_=str(_prénom_)\n",
    "_pays_d_origine_=str(_pays_d_origine_)\n",
    "_age_=int(_age_)\n"
   ]
  },
  {
   "cell_type": "markdown",
   "id": "33240a56",
   "metadata": {
    "id": "33240a56"
   },
   "source": [
    "**Exercice 16:** \n",
    "\n",
    "**Déclarer $5$ comme `num_one` et $4$ comme `num_two`**\n",
    "\n",
    "   1. Additionner `num_one` et `num_two` et affecter la valeur à une variable `totale`.\n",
    "   2. Soustraire `num_two` de `num_one` et affecter la valeur à une variable `diff`.\n",
    "   3. Multipliez le `num_one` et le `num_two` et attribuez la valeur à une variable `produit`.\n",
    "   4. Divisez le `num_one` par le `num_two` et attribuez la valeur à une variable `division`.\n",
    "   5. Calculez `num_one` à la puissance de `num_two` et attribuez la valeur à une variable `exp`."
   ]
  },
  {
   "cell_type": "code",
   "execution_count": 3,
   "id": "c2f3e814",
   "metadata": {
    "id": "c2f3e814"
   },
   "outputs": [],
   "source": [
    "num_one = 5\n",
    "num_two = 4\n",
    "#1\n",
    "totale = num_one + num_two \n",
    "\n",
    "#2\n",
    "diff = num_one - num_two \n",
    "\n",
    "#3\n",
    "produit = num_one/num_two \n",
    "\n",
    "#4\n",
    "division = num_one/num_two\n",
    "\n",
    "#5\n",
    "exp = num_one**num_two\n",
    "\n"
   ]
  },
  {
   "cell_type": "markdown",
   "id": "80763237",
   "metadata": {
    "id": "80763237"
   },
   "source": [
    "<center> <b> <span style=\"color:orange;\"> 🎉 FÉLICITATIONS! 🎉 </span> </b></center>"
   ]
  }
 ],
 "metadata": {
  "colab": {
   "collapsed_sections": [],
   "name": "In2Py_TP_01.ipynb",
   "provenance": []
  },
  "kernelspec": {
   "display_name": "Python 3 (ipykernel)",
   "language": "python",
   "name": "python3"
  },
  "language_info": {
   "codemirror_mode": {
    "name": "ipython",
    "version": 3
   },
   "file_extension": ".py",
   "mimetype": "text/x-python",
   "name": "python",
   "nbconvert_exporter": "python",
   "pygments_lexer": "ipython3",
   "version": "3.8.10"
  }
 },
 "nbformat": 4,
 "nbformat_minor": 5
}
