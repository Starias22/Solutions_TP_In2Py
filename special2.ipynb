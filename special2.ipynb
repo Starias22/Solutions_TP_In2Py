{
 "cells": [
  {
   "cell_type": "code",
   "execution_count": 1,
   "id": "a516b3fb",
   "metadata": {},
   "outputs": [
    {
     "name": "stdout",
     "output_type": "stream",
     "text": [
      "Enter a non-nul number 4\n",
      "Enter another non-nul number 4\n",
      "Result : -50.648739499523224\n"
     ]
    }
   ],
   "source": [
    "#1\n",
    "import math\n",
    " \n",
    "def calculate (x,y) :\n",
    "    \"\"\"This function compute the given formula\"\"\"\n",
    "    return  math.sqrt(pow(x,2+y))/(1/x+2*math.sin(y))\n",
    "x=y=0\n",
    "while x==0 or y==0 :\n",
    "    x=float(input(\"Enter a non-nul number \"))\n",
    "    y=float(input(\"Enter another non-nul number \"))\n",
    "res = calculate(x,y)\n",
    "print(\"Result :\",res)"
   ]
  },
  {
   "cell_type": "code",
   "execution_count": 2,
   "id": "e6729de1",
   "metadata": {},
   "outputs": [
    {
     "name": "stdout",
     "output_type": "stream",
     "text": [
      "Enter an integer7\n",
      "Enter a natural number7\n",
      "7 exponent 7 equals 823543\n"
     ]
    }
   ],
   "source": [
    "#2\n",
    "def ownpowerfn ():\n",
    "    \"\"\"This is the pover function\"\"\"\n",
    "    b=int(input(\"Enter an integer\"))\n",
    "    n=int(input(\"Enter a natural number\"))\n",
    "    power=1\n",
    "    for i in range(1,n+1):\n",
    "        power*=b\n",
    "    print(b,\"exponent\",n,\"equals\",power)\n",
    "#Test\n",
    "ownpowerfn()\n",
    "\n",
    "#If we dont specify that n is positive we always will get 1 as result for the for loop\n",
    "#can't iterate (as 1 is greather than every negetive number)"
   ]
  },
  {
   "cell_type": "code",
   "execution_count": 3,
   "id": "09caae84",
   "metadata": {},
   "outputs": [],
   "source": [
    "#3\n",
    "\n",
    "#a\n",
    "\n",
    "#Arithmetic mean\n",
    "def arithmetic_mean(x,y):\n",
    "    \"\"\"Arithmetic mean function\"\"\"\n",
    "    return (x+y)/2\n",
    "#Geometric mean\n",
    "def geometric_mean(x,y):\n",
    "    \"\"\"Geometric mean function\"\"\"\n",
    "    return math.sqrt(x*y)\n",
    "#b\n",
    "\n",
    "#celcius to fashrenheit\n",
    "def celcius_to_fashrenheit(c):\n",
    "    \"\"\"It converts from Celcius to Fashrenheit\"\"\"\n",
    "    return 32+(9/5)*c\n",
    "\n",
    "#fashrenheit to celcius\n",
    "def fashrenheit_to_celcius (f):\n",
    "    \"\"\"It converts from Fashrenheit to Celcius\"\"\"\n",
    "    return (5/9)*(f-32)\n",
    "\n",
    "#c\n",
    "\n",
    "#degrees to radians\n",
    "def degrees_to_radians(x):\n",
    "    \"\"\"It converts from degrees to radians\"\"\"\n",
    "    return math.radians(x)\n",
    "\n",
    "#redians to degrees\n",
    "def radians_to_degrees(x):\n",
    "    \"\"\"It converts from radians to degrees\"\"\"\n",
    "    return math.degrees(x)\n",
    "#d\n",
    "\n",
    "#circumference\n",
    "def circumference(radius) :\n",
    "    \"\"\"This function computes the circumference of a circle, knowing it radius \"\"\"\n",
    "    return 2*math.pi*radius\n",
    "def area (radius):\n",
    "    \"\"\"This function computes the area of a circle, knowing it radius\"\"\"\n",
    "    return math.pi*pow(radius,2)"
   ]
  },
  {
   "cell_type": "code",
   "execution_count": 4,
   "id": "7db1f709",
   "metadata": {},
   "outputs": [
    {
     "name": "stdout",
     "output_type": "stream",
     "text": [
      "average= 1.5\n",
      "geometric_mean= 1.7320508075688772\n",
      "average= 1.6160254037844386\n",
      "geometric_mean= 1.6730326074756157\n",
      "average= 1.644529005630027\n",
      "geometric_mean= 1.6587195815925264\n",
      "average= 1.6516242936112766\n",
      "geometric_mean= 1.6551681356427053\n",
      "average= 1.653396214626991\n",
      "geometric_mean= 1.6542819378941616\n",
      "average= 1.6538390762605761\n",
      "geometric_mean= 1.654060492255781\n",
      "average= 1.6539497842581785\n",
      "geometric_mean= 1.6540051373307234\n",
      "average= 1.6539774607944508\n",
      "geometric_mean= 1.6539912990046977\n",
      "average= 1.6539843798995744\n",
      "geometric_mean= 1.653987839448518\n",
      "average= 1.653986109674046\n",
      "geometric_mean= 1.6539869745610558\n",
      "x-corrdinate of A\n"
     ]
    },
    {
     "ename": "ValueError",
     "evalue": "could not convert string to float: ''",
     "output_type": "error",
     "traceback": [
      "\u001b[0;31m---------------------------------------------------------------------------\u001b[0m",
      "\u001b[0;31mValueError\u001b[0m                                Traceback (most recent call last)",
      "Input \u001b[0;32mIn [4]\u001b[0m, in \u001b[0;36m<cell line: 28>\u001b[0;34m()\u001b[0m\n\u001b[1;32m     26\u001b[0m \u001b[38;5;28;01mdef\u001b[39;00m \u001b[38;5;21mdistancefn\u001b[39m(xA,yA,xB,yB) :\n\u001b[1;32m     27\u001b[0m     \u001b[38;5;28;01mreturn\u001b[39;00m math\u001b[38;5;241m.\u001b[39msqrt(\u001b[38;5;28mpow\u001b[39m(xA\u001b[38;5;241m-\u001b[39mxB,\u001b[38;5;241m2\u001b[39m)\u001b[38;5;241m+\u001b[39m\u001b[38;5;28mpow\u001b[39m(yA\u001b[38;5;241m-\u001b[39myB,\u001b[38;5;241m2\u001b[39m))\n\u001b[0;32m---> 28\u001b[0m xA\u001b[38;5;241m=\u001b[39m\u001b[38;5;28;43mfloat\u001b[39;49m\u001b[43m(\u001b[49m\u001b[38;5;28;43minput\u001b[39;49m\u001b[43m(\u001b[49m\u001b[38;5;124;43m\"\u001b[39;49m\u001b[38;5;124;43mx-corrdinate of A\u001b[39;49m\u001b[38;5;124;43m\"\u001b[39;49m\u001b[43m)\u001b[49m\u001b[43m)\u001b[49m\n\u001b[1;32m     29\u001b[0m yA\u001b[38;5;241m=\u001b[39m\u001b[38;5;28mfloat\u001b[39m(\u001b[38;5;28minput\u001b[39m(\u001b[38;5;124m\"\u001b[39m\u001b[38;5;124my-corrdinate of A\u001b[39m\u001b[38;5;124m\"\u001b[39m))\n\u001b[1;32m     31\u001b[0m xB\u001b[38;5;241m=\u001b[39m\u001b[38;5;28mfloat\u001b[39m(\u001b[38;5;28minput\u001b[39m(\u001b[38;5;124m\"\u001b[39m\u001b[38;5;124mx-corrdinate of B\u001b[39m\u001b[38;5;124m\"\u001b[39m))\n",
      "\u001b[0;31mValueError\u001b[0m: could not convert string to float: ''"
     ]
    }
   ],
   "source": [
    "#4\n",
    "\n",
    "#a\n",
    "#average\n",
    "def average(x,y):\n",
    "    \"\"\"Calculate the adverage of two numbers\"\"\"\n",
    "    res = (x+y)/2\n",
    "    print(\"average=\",res)\n",
    "    return res\n",
    "#Geometric mean\n",
    "def geometric_mean(x,y):\n",
    "    \"\"\"Compute the geometric mean of two  positive numbers\"\"\"\n",
    "    res=math.sqrt(x*y)\n",
    "    print(\"geometric_mean=\",res)\n",
    "    return math.sqrt(x*y)\n",
    "                  \n",
    "def avggeom (x,y):\n",
    "    \"\"\"Perform average and geometrical mean 10 times, taking input from the returned value of the previous means\"\"\"\n",
    "                    for i in range(1,11) :                  \n",
    "                                       x=average(x,y)\n",
    "                                       y=geometric_mean(x,y)\n",
    "                  \n",
    "                  \n",
    "                \n",
    " #Test \n",
    "avggeom(1,2)\n",
    "\n",
    "#b\n",
    "def distancefn(xA,yA,xB,yB) :\n",
    "    \"\"\"Returns the Euclid distance between two points that coordinates are taken in parameters \"\"\"\n",
    "    return math.sqrt(pow(xA-xB,2)+pow(yA-yB,2))\n",
    "xA=float(input(\"x-corrdinate of A\"))\n",
    "yA=float(input(\"y-corrdinate of A\"))\n",
    "\n",
    "xB=float(input(\"x-corrdinate of B\"))\n",
    "yB=float(input(\"y-corrdinate of B\"))\n",
    "\n",
    "xC=float(input(\"x-corrdinate of C\"))\n",
    "yC=float(input(\"y-corrdinate of C\"))\n",
    "\n",
    "perimeter =distancefn(xA,yA,xB,yB)+distancefn(xA,yA,xC,yC)+distancefn(xC,yC,xB,yB)"
   ]
  },
  {
   "cell_type": "code",
   "execution_count": 5,
   "id": "492256a5",
   "metadata": {},
   "outputs": [
    {
     "name": "stdout",
     "output_type": "stream",
     "text": [
      "1 :Evaluation of factorial\n",
      " 2:Evaluation of second degre equation\n",
      " 3:Exit\n",
      "3\n",
      "End!\n"
     ]
    }
   ],
   "source": [
    "#5\n",
    "def factorial ():\n",
    "    \"\"\"Compute and print the factorial of an input \"\"\"\n",
    "    n=int(input(\"Enter a natural number\"))\n",
    "    fact = 1\n",
    "    for i in range(1,n+1):\n",
    "        fact*=i\n",
    "    print(\"Factorial(\",n,\") =\",fact)\n",
    "def equation ():\n",
    "    \"\"\"Solve a second degree equation \"\"\"\n",
    "    a=0\n",
    "    while a ==0:      \n",
    "        print(\"Enter 3 numbers a,b,c int this order, corresponding to the coefficiens of the equation: a must be non-nul\")\n",
    "        a=float(input())\n",
    "        b=float(input())\n",
    "        c=float(input())\n",
    "        disc = pow(b,2)-4*a*c\n",
    "        if disc <0:\n",
    "            print(\"This equation doesn't have any solution\")\n",
    "        elif disc==0:\n",
    "            print(\"This equation has a unique solution equals to\",-b/(2*a))\n",
    "        else :\n",
    "            print(\"This equation has two solutions  equal to\",(-b-math.sqrt(disc))/(2*a),\"and\",(-b+math.sqrt(disc))/(2*a))\n",
    "        \n",
    "def fact2ndd():\n",
    "    n=0\n",
    "    while n!=3:\n",
    "        \n",
    "                n=int(input(\"1 :Evaluation of factorial\\n 2:Evaluation of second degre equation\\n 3:Exit\\n\"))\n",
    "            \n",
    "                if n==1 :\n",
    "                     factorial()\n",
    "                elif n==2:\n",
    "                     equation()\n",
    "                elif n==3 :\n",
    "                    print(\"End!\")\n",
    "                    break\n",
    "                else :\n",
    "                    print(\"Unknown value\")\n",
    "    \n",
    "fact2ndd()"
   ]
  },
  {
   "cell_type": "code",
   "execution_count": 6,
   "id": "c7ae5951",
   "metadata": {},
   "outputs": [
    {
     "data": {
      "text/plain": [
       "8"
      ]
     },
     "execution_count": 6,
     "metadata": {},
     "output_type": "execute_result"
    }
   ],
   "source": [
    "#6\n",
    "def power(x,n):\n",
    "    \"\"\"Compute power recursively\"\"\"\n",
    "    if n==0:\n",
    "        return 1\n",
    "    return x*power(x,n-1)\n",
    "   \n",
    "#Test\n",
    "power(2,3)\n"
   ]
  },
  {
   "cell_type": "code",
   "execution_count": null,
   "id": "1a76fbb1",
   "metadata": {},
   "outputs": [],
   "source": [
    "#7\n",
    "def Fibonacci(n) :\n",
    "    \"\"\"Compute Fibonacci recursively\"\"\"\n",
    "    if n==0 or n==1:\n",
    "        return n\n",
    "    return Fibonacci(n-1)+Fibonacci(n-2)\n",
    "\n",
    "Fibonacci(100)"
   ]
  },
  {
   "cell_type": "code",
   "execution_count": null,
   "id": "868e9b99",
   "metadata": {},
   "outputs": [],
   "source": []
  }
 ],
 "metadata": {
  "kernelspec": {
   "display_name": "Python 3 (ipykernel)",
   "language": "python",
   "name": "python3"
  },
  "language_info": {
   "codemirror_mode": {
    "name": "ipython",
    "version": 3
   },
   "file_extension": ".py",
   "mimetype": "text/x-python",
   "name": "python",
   "nbconvert_exporter": "python",
   "pygments_lexer": "ipython3",
   "version": "3.8.10"
  }
 },
 "nbformat": 4,
 "nbformat_minor": 5
}
