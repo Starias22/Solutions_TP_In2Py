{
 "cells": [
  {
   "cell_type": "code",
   "execution_count": null,
   "id": "75d0748c",
   "metadata": {},
   "outputs": [],
   "source": [
    "#1\n",
    "\n",
    "n = int(input(\"Enter a natural number : \")) \n",
    "#i\n",
    "somme = 0\n",
    "for i in range(0, n) :\n",
    "                       if (i%2 != 0): \n",
    "                                          somme+= (i+3)\n",
    "                    \n",
    "                \n",
    "\n",
    "                \n",
    "#ii\n",
    " \n",
    "product = 1\n",
    "for i in range(0, n) : \n",
    "                       if (i%2 == 0):\n",
    "                                      product*= (i+3)\n",
    "                    \n",
    "                \n",
    "\n",
    "print(\"For the first expression:\",somme)\n",
    "print(\"For the second expression:\",product)"
   ]
  },
  {
   "cell_type": "code",
   "execution_count": 11,
   "id": "050ab767",
   "metadata": {},
   "outputs": [
    {
     "name": "stdout",
     "output_type": "stream",
     "text": [
      "Enter the number of the day : 7\n",
      "Invalid day\n"
     ]
    }
   ],
   "source": [
    "#2\n",
    "days=['Monday','Tuesday','Wednesday','Thursday','Friday','Satursday','Wednesday']\n",
    "n=int(input(\"Enter the number of the day : \"))\n",
    "if(n in range(0,5)) :\n",
    "                        print(days[n])\n",
    "elif (n==5 or n==6) :\n",
    "                        print(\"Weekend\")\n",
    "else                : \n",
    "                        print(\"Invalid day\")\n"
   ]
  },
  {
   "cell_type": "code",
   "execution_count": 19,
   "id": "ac264404",
   "metadata": {},
   "outputs": [
    {
     "name": "stdout",
     "output_type": "stream",
     "text": [
      "Enter a number of month : 5\n",
      "This month contains 30 days\n"
     ]
    }
   ],
   "source": [
    "#3\n",
    "months=['January','February','March','April','May','June','July','August','September','October','November','December']\n",
    "class1= [0,2,4,6,7,9,11]\n",
    "class2=[3,5,8,10]\n",
    "n = int(input(\"Enter a number of month : \"))\n",
    "if n in class1 :\n",
    "    print(\"This month contains 31 days\")\n",
    "elif n in class2 :\n",
    "    print(\"This month contains 30 days\")\n",
    "elif n==1 :\n",
    "    print(\"This month contains 28 days\")\n",
    "else :\n",
    "    print(\"Invalid month\")"
   ]
  },
  {
   "cell_type": "code",
   "execution_count": 24,
   "id": "e2bf529a",
   "metadata": {},
   "outputs": [
    {
     "name": "stdout",
     "output_type": "stream",
     "text": [
      "First version\n",
      "\n",
      "Ezéchiel\n",
      "Ezéchiel\n",
      "Ezéchiel\n",
      "Ezéchiel\n",
      "Second version\n",
      "\n",
      "Ezéchiel\n",
      "Ezéchiel\n",
      "Ezéchiel\n",
      "Ezéchiel\n"
     ]
    }
   ],
   "source": [
    "#4\n",
    "\n",
    "name =\"Ezéchiel\"\n",
    "#First version\n",
    "print(\"First version\\n\")\n",
    "for i in range(1,5) :\n",
    "    print(name)\n",
    "#Second version\n",
    "i=1\n",
    "print(\"Second version\\n\")\n",
    "while i<=4 :\n",
    "    print(name)\n",
    "    i+=1\n",
    "    \n"
   ]
  },
  {
   "cell_type": "code",
   "execution_count": 22,
   "id": "887a33e9",
   "metadata": {},
   "outputs": [
    {
     "name": "stdout",
     "output_type": "stream",
     "text": [
      "Give two initial values(natural numbers)\n",
      "First value : 0\n",
      "Second value : 1\n",
      "The 30 first terms of Fibonacci sequence are : \n",
      "0\n",
      "1\n",
      "1\n",
      "2\n",
      "3\n",
      "5\n",
      "8\n",
      "13\n",
      "21\n",
      "34\n",
      "55\n",
      "89\n",
      "144\n",
      "233\n",
      "377\n"
     ]
    }
   ],
   "source": [
    "#5\n",
    "\n",
    "    \n",
    "print(\"Give two initial values(natural numbers)\")\n",
    "x0=int(input(\"First value : \"))\n",
    "x1=int(input(\"Second value : \"))\n",
    "\n",
    "def Fibonacci(n):\n",
    "    if n==0:\n",
    "        return x0\n",
    "    elif n==1:\n",
    "        return x1 \n",
    "    else :\n",
    "        return Fibonacci(n-1)+Fibonacci(n-2)\n",
    "    \n",
    "print(\"The 30 first terms of Fibonacci sequence are : \")\n",
    "for i in range (0,15):\n",
    "        print(Fibonacci(i))\n"
   ]
  },
  {
   "cell_type": "code",
   "execution_count": 7,
   "id": "c8d81b00",
   "metadata": {},
   "outputs": [
    {
     "name": "stdout",
     "output_type": "stream",
     "text": [
      "Give two initial values(natural numbers)\n",
      "First value : 1\n",
      "Second value : 0\n",
      "The 30 first terms of the given sequence are : \n",
      "1\n",
      "0\n",
      "3.0\n",
      "1.5\n",
      "9.75\n",
      "9.375\n",
      "33.9375\n",
      "45.09375\n",
      "124.359375\n",
      "197.4609375\n",
      "471.80859375\n",
      "828.287109375\n",
      "1829.5693359375\n",
      "3399.64599609375\n",
      "7188.531005859375\n",
      "13793.203491210938\n",
      "28462.194763183594\n",
      "55610.70785522461\n",
      "113191.93821716309\n",
      "223428.09267425537\n",
      "451289.86098861694\n",
      "895929.2085170746\n",
      "1801834.1872243881\n",
      "3588704.719163418\n",
      "7199854.921254873\n",
      "14366041.61811769\n",
      "28782585.572823465\n",
      "57489417.6407648\n",
      "115092465.5388528\n",
      "230014485.6917208\n"
     ]
    }
   ],
   "source": [
    "#6\n",
    "\n",
    "print(\"Give two initial values(natural numbers)\")\n",
    "x0=int(input(\"First value : \"))\n",
    "x1=int(input(\"Second value : \"))\n",
    "\n",
    "def function(n):\n",
    "    if n==0:\n",
    "        return x0\n",
    "    elif n==1:\n",
    "        return x1 \n",
    "    else :\n",
    "        return 0.5*(function(n-1)+6*function(n-2))\n",
    "    \n",
    "print(\"The 30 first terms of the given sequence are : \")\n",
    "for i in range (0,30):\n",
    "        print(function(i))\n"
   ]
  },
  {
   "cell_type": "code",
   "execution_count": 20,
   "id": "3a398727",
   "metadata": {},
   "outputs": [
    {
     "name": "stdout",
     "output_type": "stream",
     "text": [
      "Enter a year :4\n",
      "A leap year\n"
     ]
    },
    {
     "data": {
      "text/plain": [
       "True"
      ]
     },
     "execution_count": 20,
     "metadata": {},
     "output_type": "execute_result"
    }
   ],
   "source": [
    "#7\n",
    "#a\n",
    "def isaleapyear1(year) :\n",
    "    if year% 400 == 0 or (year % 4 == 0 and year % 100 != 0):\n",
    "        return True\n",
    "    else:\n",
    "        return False\n",
    "\n",
    "year=int(input(\"Enter a year :\"))\n",
    "if isaleapyear1(year):\n",
    "    print(\"A leap year\")\n",
    "else :\n",
    "    print(\"Not a leap year\")\n",
    "    \n",
    "    \n",
    "#b\n",
    "def isaleapyear2(year) :\n",
    "    return(True,False) [ year% 400 == 0 or (year % 4 == 0 and year % 100 != 0)]\n",
    "  \n",
    "isaleapyear(2000)"
   ]
  },
  {
   "cell_type": "code",
   "execution_count": 16,
   "id": "1ca38008",
   "metadata": {},
   "outputs": [
    {
     "name": "stdout",
     "output_type": "stream",
     "text": [
      "Enter a natural number : 6\n",
      "First version\n",
      "The sum of the square of the 6 firsts natural number is equal to 55\n",
      "\n",
      "Second version\n",
      "The sum of the square of the 6 firsts natural number is equal to 55\n",
      "Enter a natural number : 6\n",
      "First version\n",
      "The smalest natural number matching the giving equation is 3\n",
      "\n",
      "Second version\n",
      "The sum of the square of the 6 firsts natural number is equal to 3\n"
     ]
    }
   ],
   "source": [
    "#8\n",
    "\n",
    "#a\n",
    "n= int(input(\"Enter a natural number : \"))\n",
    "#First version\n",
    "somme =0\n",
    "print(\"First version\")\n",
    "for i in range (0,n) :\n",
    "    somme+= i*i\n",
    "    \n",
    "print(\"The sum of the square of the\",n,\"first natural number is equal to\",somme)\n",
    "    \n",
    "\n",
    "\n",
    "#Second version\n",
    "somme = 0\n",
    "i=0\n",
    "print(\"\\nSecond version\")\n",
    "while i<n :\n",
    "    somme+=i*i\n",
    "    i+=1\n",
    "print(\"The sum of the square of the\",n,\"first natural number is equal to\",somme)    \n",
    "\n",
    "\n",
    "#b\n",
    "\n",
    "M= int(input(\"Enter a natural number : \"))\n",
    "#First version\n",
    "somme =0\n",
    "print(\"First version\")\n",
    "for i in range (1,M+1) :\n",
    "                      somme+= i*i\n",
    "                      if somme>=M :\n",
    "                            break\n",
    "print(\"The smalest natural number matching the giving equation is\",i)                                \n",
    "    \n",
    "\n",
    "    \n",
    "\n",
    "\n",
    "#Second version\n",
    "somme = 0\n",
    "i=0\n",
    "print(\"\\nSecond version\")\n",
    "while somme <M :\n",
    "    i+=1\n",
    "    somme+=i*i\n",
    "    \n",
    "print(\"The sum of the square of the\",n,\"firsts natural number is equal to\",i)    "
   ]
  },
  {
   "cell_type": "code",
   "execution_count": 48,
   "id": "fb18c899",
   "metadata": {},
   "outputs": [
    {
     "name": "stdout",
     "output_type": "stream",
     "text": [
      "Enter a natural number10\n",
      "The divisors of 10 are : \n",
      "1\n",
      "2\n",
      "5\n",
      "10\n",
      "The prime factor(s) of 10 is(are) : \n",
      "2\n",
      "5\n"
     ]
    }
   ],
   "source": [
    "#9\n",
    "#a\n",
    "def divisor_list(n) :\n",
    "    liste =[]\n",
    "    j=0\n",
    "    for i in range(1,n+1):\n",
    "        if n%i==0:\n",
    "            liste.append(i)\n",
    "            j+=1\n",
    "    return liste\n",
    "        \n",
    "\n",
    "\n",
    "n = int(input(\"Enter a natural number : \"))\n",
    "print(\"The divisors of\",n,\"are : \")\n",
    "for i in divisor_list(n):\n",
    "            print(i)\n",
    "        \n",
    "        \n",
    "#b\n",
    "print(\"The prime factor(s) of\",n,\"is(are) : \")\n",
    "for i in divisor_list(n):\n",
    "    if len (divisor_list(i))==2:\n",
    "        print(i)\n",
    "        "
   ]
  },
  {
   "cell_type": "code",
   "execution_count": 20,
   "id": "32bd77cc",
   "metadata": {},
   "outputs": [
    {
     "name": "stdout",
     "output_type": "stream",
     "text": [
      "Enter a natural number between 0 and 9 to display its multiplication table : 4\n",
      "From 1 to what ? 12\n",
      "4 * 1 = 4\n",
      "4 * 2 = 8\n",
      "4 * 3 = 12\n",
      "4 * 4 = 16\n",
      "4 * 5 = 20\n",
      "4 * 6 = 24\n",
      "4 * 7 = 28\n",
      "4 * 8 = 32\n",
      "4 * 9 = 36\n",
      "4 * 10 = 40\n",
      "4 * 11 = 44\n",
      "4 * 12 = 48\n"
     ]
    }
   ],
   "source": [
    "#10\n",
    "n=int(input(\"Enter a natural number between 0 and 9 to display its multiplication table : \"))\n",
    "N=int(input(\"From 1 to what ? \"))\n",
    "for i in range(1,N+1):\n",
    "    print(n,\"*\",i,\"=\",n*i)\n"
   ]
  },
  {
   "cell_type": "code",
   "execution_count": 21,
   "id": "a8916ce5",
   "metadata": {},
   "outputs": [
    {
     "name": "stdout",
     "output_type": "stream",
     "text": [
      "0\n",
      "3\n",
      "6\n",
      "7\n",
      "9\n",
      "11\n",
      "12\n",
      "14\n",
      "15\n",
      "18\n",
      "21\n",
      "22\n",
      "24\n",
      "27\n",
      "28\n",
      "30\n",
      "33\n",
      "35\n",
      "36\n",
      "39\n"
     ]
    }
   ],
   "source": [
    "#11\n",
    "for i in range(0,40):\n",
    "    if (i%3 ==0 or i%7 ==0 or i%11 ==0  ):\n",
    "        print(i)\n",
    "    "
   ]
  },
  {
   "cell_type": "code",
   "execution_count": 46,
   "id": "dcdc25c7",
   "metadata": {},
   "outputs": [
    {
     "name": "stdout",
     "output_type": "stream",
     "text": [
      "Enter a float number : -9.8\n",
      "-9\n",
      "La partie entière de -9.8 est -10\n"
     ]
    }
   ],
   "source": [
    "#12\n",
    "import re\n",
    "def floor (x):\n",
    "    \n",
    "    n=int(re.split(\"\\.\\d+\",str(x))[0])\n",
    "    print(n)\n",
    "    if n==x or n>0 :\n",
    "        return n\n",
    "    else :\n",
    "        return n-1\n",
    "    \n",
    "x = float(input(\"Enter a float number : \"))\n",
    "print(\"La partie entière de\",x,\"est\",floor(x))\n"
   ]
  },
  {
   "cell_type": "code",
   "execution_count": null,
   "id": "fb730402",
   "metadata": {},
   "outputs": [],
   "source": [
    "#13\n",
    "q=False \n",
    "while q is False :\n",
    "    \n",
    "    x=float(input(\"Enter the x-coordinate : \"))\n",
    "    y=float(input(\"Enter the y-coordinate : \"))\n",
    "    point =[x,y]\n",
    "    if(point[0]==0 and point[1]==0):\n",
    "         print(\"This point is  the origin\")\n",
    "        \n",
    "    elif(point[0]==0 or point[1]==0):\n",
    "         print(\"This point is  on an axis\")\n",
    "    elif(point[0]<0 and  point[1]>0):\n",
    "         print(\"This point is  in the first quadrant\")\n",
    "    elif(point[0]>0 and point[1]>0):\n",
    "         print(\"This point is in the second quadrant \")\n",
    "    elif(point[0]>0 and point[1]<0):\n",
    "         print(\"This point is in the third quadrant \")\n",
    "    else :\n",
    "         print(\"This point is  in the fourth quadrant \")\n",
    "            \n",
    "    n=int(input(\"Do you wanna exit ?\\n1:Yes\\n2:No\\n\"))\n",
    "    if n==1:\n",
    "        q=True"
   ]
  },
  {
   "cell_type": "code",
   "execution_count": 2,
   "id": "b1286b9a",
   "metadata": {},
   "outputs": [
    {
     "name": "stdout",
     "output_type": "stream",
     "text": [
      "Enter a natural number between 0 and 9 : 8\n",
      "Enter a natural number between 0 and 255 : 200\n",
      "0\n",
      "8\n",
      "16\n",
      "24\n",
      "32\n",
      "40\n",
      "48\n",
      "56\n",
      "64\n",
      "72\n",
      "80\n",
      "88\n",
      "96\n",
      "104\n",
      "112\n",
      "120\n",
      "128\n",
      "136\n",
      "144\n",
      "152\n",
      "160\n",
      "168\n",
      "176\n",
      "184\n",
      "192\n",
      "200\n",
      "Do you wanna continue ?\n",
      "1:Yes\n",
      "2:No\n",
      "1\n",
      "Enter a natural number between 0 and 9 : 8\n",
      "Enter a natural number between 0 and 255 : 100\n",
      "0\n",
      "8\n",
      "16\n",
      "24\n",
      "32\n",
      "40\n",
      "48\n",
      "56\n",
      "64\n",
      "72\n",
      "80\n",
      "88\n",
      "96\n",
      "Do you wanna continue ?\n",
      "1:Yes\n",
      "2:No\n",
      "2\n"
     ]
    }
   ],
   "source": [
    "#14\n",
    "\n",
    "c=True\n",
    "while c :\n",
    "    x=-1\n",
    "    while  x not in range(0,10):\n",
    "    \n",
    "         x=int(input(\"Enter a natural number between 0 and 9 : \"))\n",
    "        \n",
    "    maxi=-1\n",
    "    while  maxi not in range(0,256):\n",
    "    \n",
    "         maxi=int(input(\"Enter a natural number between 0 and 255 : \"))\n",
    "    print(0)\n",
    "    for i in range (1,maxi+1):\n",
    "        if i%x == 0:\n",
    "             print(i)\n",
    "    n=int(input(\"Do you wanna continue ?\\n1:Yes\\n2:No\\n\"))\n",
    "    if n==2:\n",
    "        c=False\n",
    "   \n"
   ]
  },
  {
   "cell_type": "code",
   "execution_count": null,
   "id": "f5f90aa8",
   "metadata": {},
   "outputs": [],
   "source": [
    "\n"
   ]
  },
  {
   "cell_type": "code",
   "execution_count": null,
   "id": "e020881e",
   "metadata": {},
   "outputs": [],
   "source": []
  }
 ],
 "metadata": {
  "kernelspec": {
   "display_name": "Python 3 (ipykernel)",
   "language": "python",
   "name": "python3"
  },
  "language_info": {
   "codemirror_mode": {
    "name": "ipython",
    "version": 3
   },
   "file_extension": ".py",
   "mimetype": "text/x-python",
   "name": "python",
   "nbconvert_exporter": "python",
   "pygments_lexer": "ipython3",
   "version": "3.8.10"
  }
 },
 "nbformat": 4,
 "nbformat_minor": 5
}
