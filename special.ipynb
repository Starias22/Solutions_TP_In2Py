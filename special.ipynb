{
 "cells": [
  {
   "cell_type": "code",
   "execution_count": 5,
   "id": "75d0748c",
   "metadata": {},
   "outputs": [
    {
     "name": "stdout",
     "output_type": "stream",
     "text": [
      "Enter a natural number : 3\n",
      "For the first expression: 4\n",
      "For the second expression: 15\n"
     ]
    }
   ],
   "source": [
    "#1\n",
    "\n",
    "n = int(input(\"Enter a natural number : \")) \n",
    "#i\n",
    "somme = 0\n",
    "for i in range(0, n) :\n",
    "                       if (i%2 != 0): \n",
    "                                          somme+= (i+3)\n",
    "                    \n",
    "                \n",
    "\n",
    "                \n",
    "#ii\n",
    " \n",
    "product = 1\n",
    "for i in range(0, n) : \n",
    "                       if (i%2 == 0):\n",
    "                                      product*= (i+3)\n",
    "                    \n",
    "                \n",
    "\n",
    "print(\"For the first expression:\",somme)\n",
    "print(\"For the second expression:\",product)"
   ]
  },
  {
   "cell_type": "code",
   "execution_count": 11,
   "id": "050ab767",
   "metadata": {},
   "outputs": [
    {
     "name": "stdout",
     "output_type": "stream",
     "text": [
      "Enter the number of the day : 7\n",
      "Invalid day\n"
     ]
    }
   ],
   "source": [
    "#2\n",
    "days=['Monday','Tuesday','Wednesday','Thursday','Friday','Satursday','Wednesday']\n",
    "n=int(input(\"Enter the number of the day : \"))\n",
    "if(n in range(0,5)) :\n",
    "                        print(days[n])\n",
    "elif (n==5 or n==6) :\n",
    "                        print(\"Weekend\")\n",
    "else                : \n",
    "                        print(\"Invalid day\")\n"
   ]
  },
  {
   "cell_type": "code",
   "execution_count": 19,
   "id": "ac264404",
   "metadata": {},
   "outputs": [
    {
     "name": "stdout",
     "output_type": "stream",
     "text": [
      "Enter a number of month : 5\n",
      "This month contains 30 days\n"
     ]
    }
   ],
   "source": [
    "#3\n",
    "months=['January','February','March','April','May','June','July','August','September','October','November','December']\n",
    "class1= [0,2,4,6,7,9,11]\n",
    "class2=[3,5,8,10]\n",
    "n = int(input(\"Enter a number of month : \"))\n",
    "if n in class1 :\n",
    "    print(\"This month contains 31 days\")\n",
    "elif n in class2 :\n",
    "    print(\"This month contains 30 days\")\n",
    "elif n==1 :\n",
    "    print(\"This month contains 28 days\")\n",
    "else :\n",
    "    print(\"Invalid month\")"
   ]
  },
  {
   "cell_type": "code",
   "execution_count": 24,
   "id": "e2bf529a",
   "metadata": {},
   "outputs": [
    {
     "name": "stdout",
     "output_type": "stream",
     "text": [
      "First version\n",
      "\n",
      "Ezéchiel\n",
      "Ezéchiel\n",
      "Ezéchiel\n",
      "Ezéchiel\n",
      "Second version\n",
      "\n",
      "Ezéchiel\n",
      "Ezéchiel\n",
      "Ezéchiel\n",
      "Ezéchiel\n"
     ]
    }
   ],
   "source": [
    "#4\n",
    "\n",
    "name =\"Ezéchiel\"\n",
    "#First version\n",
    "print(\"First version\\n\")\n",
    "for i in range(1,5) :\n",
    "    print(name)\n",
    "#Second version\n",
    "i=1\n",
    "print(\"Second version\\n\")\n",
    "while i<=4 :\n",
    "    print(name)\n",
    "    i+=1\n",
    "    \n"
   ]
  },
  {
   "cell_type": "code",
   "execution_count": null,
   "id": "887a33e9",
   "metadata": {},
   "outputs": [],
   "source": [
    "#5"
   ]
  },
  {
   "cell_type": "code",
   "execution_count": null,
   "id": "c8d81b00",
   "metadata": {},
   "outputs": [],
   "source": [
    "#6"
   ]
  },
  {
   "cell_type": "code",
   "execution_count": null,
   "id": "3a398727",
   "metadata": {},
   "outputs": [],
   "source": [
    "#7"
   ]
  },
  {
   "cell_type": "code",
   "execution_count": 16,
   "id": "1ca38008",
   "metadata": {},
   "outputs": [
    {
     "name": "stdout",
     "output_type": "stream",
     "text": [
      "Enter a natural number : 6\n",
      "First version\n",
      "The sum of the square of the 6 firsts natural number is equal to 55\n",
      "\n",
      "Second version\n",
      "The sum of the square of the 6 firsts natural number is equal to 55\n",
      "Enter a natural number : 6\n",
      "First version\n",
      "The smalest natural number matching the giving equation is 3\n",
      "\n",
      "Second version\n",
      "The sum of the square of the 6 firsts natural number is equal to 3\n"
     ]
    }
   ],
   "source": [
    "#8\n",
    "\n",
    "#a\n",
    "n= int(input(\"Enter a natural number : \"))\n",
    "#First version\n",
    "somme =0\n",
    "print(\"First version\")\n",
    "for i in range (0,n) :\n",
    "    somme+= i*i\n",
    "    \n",
    "print(\"The sum of the square of the\",n,\"firsts natural number is equal to\",somme)\n",
    "    \n",
    "\n",
    "\n",
    "#Second version\n",
    "somme = 0\n",
    "i=0\n",
    "print(\"\\nSecond version\")\n",
    "while i<n :\n",
    "    somme+=i*i\n",
    "    i+=1\n",
    "print(\"The sum of the square of the\",n,\"firsts natural number is equal to\",somme)    \n",
    "\n",
    "\n",
    "#b\n",
    "\n",
    "M= int(input(\"Enter a natural number : \"))\n",
    "#First version\n",
    "somme =0\n",
    "print(\"First version\")\n",
    "for i in range (1,M+1) :\n",
    "                      somme+= i*i\n",
    "                      if somme>=M :\n",
    "                            break\n",
    "print(\"The smalest natural number matching the giving equation is\",i)                                \n",
    "    \n",
    "\n",
    "    \n",
    "\n",
    "\n",
    "#Second version\n",
    "somme = 0\n",
    "i=0\n",
    "print(\"\\nSecond version\")\n",
    "while somme <M :\n",
    "    i+=1\n",
    "    somme+=i*i\n",
    "    \n",
    "print(\"The sum of the square of the\",n,\"firsts natural number is equal to\",i)    "
   ]
  },
  {
   "cell_type": "code",
   "execution_count": 18,
   "id": "fb18c899",
   "metadata": {},
   "outputs": [
    {
     "name": "stdout",
     "output_type": "stream",
     "text": [
      "Enter a natural number45\n",
      "The divisors of 45 are : \n",
      "1\n",
      "3\n",
      "5\n",
      "9\n",
      "15\n",
      "45\n"
     ]
    }
   ],
   "source": [
    "#9\n",
    "#a\n",
    "n = int(input(\"Enter a natural number\"))\n",
    "print(\"The divisors of\",n,\"are : \")\n",
    "for i in range(1,n+1):\n",
    "    if n%i==0:\n",
    "        print(i)\n"
   ]
  },
  {
   "cell_type": "code",
   "execution_count": 20,
   "id": "32bd77cc",
   "metadata": {},
   "outputs": [
    {
     "name": "stdout",
     "output_type": "stream",
     "text": [
      "Enter a natural number between 0 and 9 to display its multiplication table : 4\n",
      "From 1 to what ? 12\n",
      "4 * 1 = 4\n",
      "4 * 2 = 8\n",
      "4 * 3 = 12\n",
      "4 * 4 = 16\n",
      "4 * 5 = 20\n",
      "4 * 6 = 24\n",
      "4 * 7 = 28\n",
      "4 * 8 = 32\n",
      "4 * 9 = 36\n",
      "4 * 10 = 40\n",
      "4 * 11 = 44\n",
      "4 * 12 = 48\n"
     ]
    }
   ],
   "source": [
    "#10\n",
    "n=int(input(\"Enter a natural number between 0 and 9 to display its multiplication table : \"))\n",
    "N=int(input(\"From 1 to what ? \"))\n",
    "for i in range(1,N+1):\n",
    "    print(n,\"*\",i,\"=\",n*i)\n"
   ]
  },
  {
   "cell_type": "code",
   "execution_count": 21,
   "id": "9cc776e4",
   "metadata": {},
   "outputs": [
    {
     "name": "stdout",
     "output_type": "stream",
     "text": [
      "0\n",
      "3\n",
      "6\n",
      "7\n",
      "9\n",
      "11\n",
      "12\n",
      "14\n",
      "15\n",
      "18\n",
      "21\n",
      "22\n",
      "24\n",
      "27\n",
      "28\n",
      "30\n",
      "33\n",
      "35\n",
      "36\n",
      "39\n"
     ]
    }
   ],
   "source": [
    "#11\n",
    "for i in range(0,40):\n",
    "    if (i%3 ==0 or i%7 ==0 or i%11 ==0  ):\n",
    "        print(i)\n",
    "    "
   ]
  },
  {
   "cell_type": "code",
   "execution_count": 22,
   "id": "9ef42efe",
   "metadata": {},
   "outputs": [],
   "source": [
    "#12\n"
   ]
  },
  {
   "cell_type": "code",
   "execution_count": 23,
   "id": "8ff74a87",
   "metadata": {},
   "outputs": [],
   "source": [
    "#13"
   ]
  },
  {
   "cell_type": "code",
   "execution_count": 2,
   "id": "6dbc400a",
   "metadata": {},
   "outputs": [
    {
     "name": "stdout",
     "output_type": "stream",
     "text": [
      "Enter a natural number between 0 and 9 : 9\n",
      "Enter a natural number between 0 and 255 : 50\n",
      "9\n",
      "18\n",
      "27\n",
      "36\n",
      "45\n"
     ]
    }
   ],
   "source": [
    "#14\n",
    "x=-1\n",
    "while  x not in range(0,10):\n",
    "    \n",
    "     x=int(input(\"Enter a natural number between 0 and 9 : \"))\n",
    "        \n",
    "maxi=-1\n",
    "while  maxi not in range(0,256):\n",
    "    \n",
    "     maxi=int(input(\"Enter a natural number between 0 and 255 : \"))\n",
    "for i in range (1,maxi+1):\n",
    "    if i%x == 0:\n",
    "         print(i)\n",
    "   \n"
   ]
  },
  {
   "cell_type": "code",
   "execution_count": 4,
   "id": "7b407b37",
   "metadata": {},
   "outputs": [
    {
     "name": "stdout",
     "output_type": "stream",
     "text": [
      "Enter the x-coordinate : -10\n",
      "Enter the y-coordinate : -10\n",
      "This point is  the fourth quadrant \n"
     ]
    }
   ],
   "source": [
    "\n",
    "x=float(input(\"Enter the x-coordinate : \"))\n",
    "y=float(input(\"Enter the y-coordinate : \"))\n",
    "point =[x,y]\n",
    "if(point[0]==0 and point[1]==0):\n",
    "      print(\"This point is  the origin\")\n",
    "        \n",
    "elif(point[0]==0 or point[1]==0):\n",
    "      print(\"This point is  on an axis\")\n",
    "elif(point[0]<0 and  point[1]>0):\n",
    "      print(\"This point is  the first quadrant\")\n",
    "elif(point[0]>0 and point[1]>0):\n",
    "      print(\"This point is  the second quadrant \")\n",
    "elif(point[0]>0 and point[1]<0):\n",
    "      print(\"This point is  the third quadrant \")\n",
    "else :\n",
    "      print(\"This point is  the fourth quadrant \")"
   ]
  },
  {
   "cell_type": "code",
   "execution_count": null,
   "id": "f4b196f6",
   "metadata": {},
   "outputs": [],
   "source": []
  }
 ],
 "metadata": {
  "kernelspec": {
   "display_name": "Python 3 (ipykernel)",
   "language": "python",
   "name": "python3"
  },
  "language_info": {
   "codemirror_mode": {
    "name": "ipython",
    "version": 3
   },
   "file_extension": ".py",
   "mimetype": "text/x-python",
   "name": "python",
   "nbconvert_exporter": "python",
   "pygments_lexer": "ipython3",
   "version": "3.8.10"
  }
 },
 "nbformat": 4,
 "nbformat_minor": 5
}
